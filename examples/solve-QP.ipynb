{
 "cells": [
  {
   "cell_type": "markdown",
   "metadata": {},
   "source": [
    "## solving QP primal"
   ]
  },
  {
   "cell_type": "code",
   "execution_count": null,
   "metadata": {},
   "outputs": [],
   "source": [
    "using Random\n",
    "using MathOptInterface\n",
    "using Dualization\n",
    "using OSQP\n",
    "\n",
    "const MOI = MathOptInterface\n",
    "const MOIU = MathOptInterface.Utilities;"
   ]
  },
  {
   "cell_type": "code",
   "execution_count": null,
   "metadata": {},
   "outputs": [],
   "source": [
    "n = 20 # variable dimension\n",
    "m = 15 # no of inequality constraints\n",
    "p = 15; # no of equality constraints"
   ]
  },
  {
   "cell_type": "markdown",
   "metadata": {},
   "source": [
    "## create a non-trivial QP problem\n",
    "$$\\text{min } \\frac{1}{2}x^TQx + q^Tx$$\n",
    "$$\\text{s.t.  }Gx <= h$$\n",
    "   $$Ax = b$$ "
   ]
  },
  {
   "cell_type": "code",
   "execution_count": null,
   "metadata": {},
   "outputs": [],
   "source": [
    "x̂ = rand(n)\n",
    "Q = rand(n, n)\n",
    "Q = Q'*Q # ensure PSD\n",
    "q = rand(n)\n",
    "G = rand(m, n)\n",
    "h = G*x̂ + rand(m)\n",
    "A = rand(p, n)\n",
    "b = A*x̂;"
   ]
  },
  {
   "cell_type": "code",
   "execution_count": null,
   "metadata": {},
   "outputs": [],
   "source": [
    "model = MOI.instantiate(OSQP.Optimizer, with_bridge_type=Float64)\n",
    "x = MOI.add_variables(model, n);"
   ]
  },
  {
   "cell_type": "code",
   "execution_count": null,
   "metadata": {},
   "outputs": [],
   "source": [
    "# define objective\n",
    "\n",
    "quad_terms = MOI.ScalarQuadraticTerm{Float64}[]\n",
    "for i in 1:n\n",
    "    for j in i:n # indexes (i,j), (j,i) will be mirrored. specify only one kind\n",
    "        push!(quad_terms, MOI.ScalarQuadraticTerm(Q[i,j],x[i],x[j]))\n",
    "    end\n",
    "end\n",
    "\n",
    "objective_function = MOI.ScalarQuadraticFunction(MOI.ScalarAffineTerm.(q, x),quad_terms,0.0)\n",
    "MOI.set(model, MOI.ObjectiveFunction{MOI.ScalarQuadraticFunction{Float64}}(), objective_function)\n",
    "MOI.set(model, MOI.ObjectiveSense(), MOI.MIN_SENSE)"
   ]
  },
  {
   "cell_type": "code",
   "execution_count": null,
   "metadata": {},
   "outputs": [],
   "source": [
    "# maintain constrain to index map - will be useful later\n",
    "constraint_map = Dict()\n",
    "\n",
    "# add constraints\n",
    "for i in 1:m\n",
    "    ci = MOI.add_constraint(model,MOI.ScalarAffineFunction(MOI.ScalarAffineTerm.(G[i,:], x), 0.),MOI.LessThan(h[i]))\n",
    "    constraint_map[ci] = i\n",
    "end\n",
    "\n",
    "for i in 1:p\n",
    "    ci = MOI.add_constraint(model,MOI.ScalarAffineFunction(MOI.ScalarAffineTerm.(A[i,:], x), 0.),MOI.EqualTo(b[i]))\n",
    "    constraint_map[ci] = i\n",
    "end"
   ]
  },
  {
   "cell_type": "code",
   "execution_count": null,
   "metadata": {
    "scrolled": false
   },
   "outputs": [],
   "source": [
    "MOI.optimize!(model)"
   ]
  },
  {
   "cell_type": "code",
   "execution_count": null,
   "metadata": {},
   "outputs": [],
   "source": [
    "@assert MOI.get(model, MOI.TerminationStatus()) in [MOI.LOCALLY_SOLVED, MOI.OPTIMAL]"
   ]
  },
  {
   "cell_type": "code",
   "execution_count": null,
   "metadata": {},
   "outputs": [],
   "source": [
    "x̄ = MOI.get(model, MOI.VariablePrimal(), x);"
   ]
  },
  {
   "cell_type": "code",
   "execution_count": null,
   "metadata": {},
   "outputs": [],
   "source": [
    "# objective value (predicted vs actual) sanity check\n",
    "@assert 0.5*x̄'*Q*x̄ + q'*x̄  <= 0.5*x̂'*Q*x̂ + q'*x̂   "
   ]
  },
  {
   "cell_type": "markdown",
   "metadata": {},
   "source": [
    "## find and solve dual problem \n",
    "\n",
    "| primal | dual |\n",
    "|--------|------|\n",
    "$$\\text{min } \\frac{1}{2}x^TQx + q^Tx$$  | $$\\text{max } -\\frac{1}{2}y^TQ^{-1}y - u^Th - v^Tb$$\n",
    "$$\\text{s.t.  }Gx <= h$$ | $$\\text{s.t.  } u \\geq 0, u \\in R^m, v \\in R^n$$\n",
    "   $$Ax = b$$  |    $$y = q + G^Tu + A^Tv$$\n",
    "  \n",
    "- Each primal variable becomes a dual constraint\n",
    "- Each primal constraint becomes a dual variable"
   ]
  },
  {
   "cell_type": "code",
   "execution_count": null,
   "metadata": {},
   "outputs": [],
   "source": [
    "# NOTE: can't use Ipopt\n",
    "# Ipopt.Optimizer doesn't supports accessing MOI.ObjectiveFunctionType\n",
    "\n",
    "joint_object    = dualize(model)\n",
    "dual_model_like = joint_object.dual_model # this is MOI.ModelLike, not an MOI.AbstractOptimizer; can't call optimizer on it\n",
    "primal_dual_map = joint_object.primal_dual_map;"
   ]
  },
  {
   "cell_type": "code",
   "execution_count": null,
   "metadata": {},
   "outputs": [],
   "source": [
    "# copy the dual model objective, constraints, and variables to an optimizer\n",
    "dual_model = MOI.instantiate(OSQP.Optimizer, with_bridge_type=Float64)\n",
    "MOI.copy_to(dual_model, dual_model_like)\n",
    "\n",
    "# solve dual\n",
    "MOI.optimize!(dual_model);"
   ]
  },
  {
   "cell_type": "code",
   "execution_count": null,
   "metadata": {},
   "outputs": [],
   "source": [
    "# check if strong duality holds\n",
    "@assert abs(MOI.get(model, MOI.ObjectiveValue()) - MOI.get(dual_model, MOI.ObjectiveValue())) <= 1e-1"
   ]
  },
  {
   "cell_type": "markdown",
   "metadata": {},
   "source": [
    "## derive and verify KKT conditions"
   ]
  },
  {
   "cell_type": "code",
   "execution_count": null,
   "metadata": {},
   "outputs": [],
   "source": [
    "is_equality(set::S) where {S<:MOI.AbstractSet} = false\n",
    "is_equality(set::MOI.EqualTo{T}) where T = true\n",
    "\n",
    "map = primal_dual_map.primal_con_dual_var;"
   ]
  },
  {
   "cell_type": "markdown",
   "metadata": {},
   "source": [
    "**complimentary slackness**: $$\\mu_{i}(G\\bar x -h)_i=0 \\qquad \\text{ where } i=1..m$$"
   ]
  },
  {
   "cell_type": "code",
   "execution_count": null,
   "metadata": {},
   "outputs": [],
   "source": [
    "for con_index in keys(map)\n",
    "    # NOTE: OSQP.Optimizer doesn't allows access to MOI.ConstraintPrimal\n",
    "    #       That's why I defined a custom map \n",
    "    \n",
    "    set = MOI.get(model, MOI.ConstraintSet(), con_index)\n",
    "    μ   = MOI.get(dual_model, MOI.VariablePrimal(), map[con_index][1])\n",
    "    \n",
    "    if !is_equality(set)\n",
    "        # μ[i]*(Gx - h)[i] = 0\n",
    "        i = constraint_map[con_index]\n",
    "        \n",
    "        # println(μ,\" - \",G[i,:]'*x̄, \" - \",h[i])\n",
    "        # TODO: assertion fails \n",
    "        @assert μ*(G[i,:]'*x̄ - h[i]) < 1e-1  \n",
    "    end\n",
    "end"
   ]
  },
  {
   "cell_type": "markdown",
   "metadata": {},
   "source": [
    "**primal feasibility**: \n",
    "$$(G\\bar x -h)_i=0 \\qquad \\text{ where } i=1..m$$\n",
    "$$(A\\bar x -b)_j=0 \\qquad \\text{ where } j=1..p$$\n",
    "\n",
    "**dual feasibility**: \n",
    "$$\\mu_i \\geq 0 \\qquad \\text{ where } i=1..m$$"
   ]
  },
  {
   "cell_type": "code",
   "execution_count": null,
   "metadata": {},
   "outputs": [],
   "source": [
    "for con_index in keys(map)\n",
    "    # NOTE: OSQP.Optimizer doesn't allows access to MOI.ConstraintPrimal\n",
    "    #       That's why I defined a custom map \n",
    "    \n",
    "    set = MOI.get(model, MOI.ConstraintSet(), con_index)\n",
    "    μ   = MOI.get(dual_model, MOI.VariablePrimal(), map[con_index][1])\n",
    "    i = constraint_map[con_index]\n",
    "    \n",
    "    if is_equality(set)\n",
    "        # (Ax - h)[i] = 0\n",
    "        @assert abs(A[i,:]'*x̄ - b[i]) < 1e-2\n",
    "    else\n",
    "        # (Gx - h)[i] = 0\n",
    "        @assert G[i,:]'*x̄ - h[i] < 1e-2\n",
    "        \n",
    "        # μ[i] >= 0\n",
    "        # TODO: assertion fails \n",
    "        @assert μ > -1e-2\n",
    "    end\n",
    "end"
   ]
  },
  {
   "cell_type": "code",
   "execution_count": null,
   "metadata": {},
   "outputs": [],
   "source": []
  }
 ],
 "metadata": {
  "kernelspec": {
   "display_name": "Julia 1.0.5",
   "language": "julia",
   "name": "julia-1.0"
  },
  "language_info": {
   "file_extension": ".jl",
   "mimetype": "application/julia",
   "name": "julia",
   "version": "1.0.5"
  }
 },
 "nbformat": 4,
 "nbformat_minor": 2
}
