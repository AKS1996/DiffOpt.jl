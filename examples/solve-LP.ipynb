{
 "cells": [
  {
   "cell_type": "markdown",
   "metadata": {},
   "source": [
    "# solving LP primal"
   ]
  },
  {
   "cell_type": "code",
   "execution_count": null,
   "metadata": {},
   "outputs": [],
   "source": [
    "using Random\n",
    "using GLPK\n",
    "using MathOptInterface\n",
    "using Dualization\n",
    "\n",
    "const MOI = MathOptInterface;"
   ]
  },
  {
   "cell_type": "code",
   "execution_count": null,
   "metadata": {},
   "outputs": [],
   "source": [
    "D = 10  # variable dimension\n",
    "N = 20; # no of inequality constraints"
   ]
  },
  {
   "cell_type": "markdown",
   "metadata": {},
   "source": [
    "## create a non-trivial LP problem"
   ]
  },
  {
   "cell_type": "code",
   "execution_count": null,
   "metadata": {},
   "outputs": [],
   "source": [
    "s = rand(N)\n",
    "s = 2*s.-1\n",
    "λ = max.(-s, 0)\n",
    "s = max.(s, 0)\n",
    "x̂ = rand(D)\n",
    "A = rand(N, D)\n",
    "b = A*x̂ .+ s\n",
    "c = -A'*λ;"
   ]
  },
  {
   "cell_type": "code",
   "execution_count": null,
   "metadata": {},
   "outputs": [],
   "source": [
    "# can feed dual problem to optimizer like this:\n",
    "# model = MOI.instantiate(dual_optimizer(GLPK.Optimizer), with_bridge_type=Float64)\n",
    "\n",
    "model = GLPK.Optimizer()\n",
    "x = MOI.add_variables(model, D)\n",
    "\n",
    "# define objective\n",
    "objective_function = MOI.ScalarAffineFunction(MOI.ScalarAffineTerm.(c, x), 0.0)\n",
    "MOI.set(model, MOI.ObjectiveFunction{MOI.ScalarAffineFunction{Float64}}(), objective_function)\n",
    "MOI.set(model, MOI.ObjectiveSense(), MOI.MIN_SENSE)"
   ]
  },
  {
   "cell_type": "code",
   "execution_count": null,
   "metadata": {},
   "outputs": [],
   "source": [
    "# will be useful later\n",
    "constraint_indices = []\n",
    "\n",
    "# set constraints\n",
    "for i in 1:N\n",
    "    push!(constraint_indices, MOI.add_constraint(model,MOI.ScalarAffineFunction(MOI.ScalarAffineTerm.(A[i,:], x), 0.),MOI.LessThan(b[i])))\n",
    "end\n",
    "\n",
    "for i in 1:D\n",
    "    push!(constraint_indices, MOI.add_constraint(model,MOI.SingleVariable(x[i]),MOI.GreaterThan(0.)))\n",
    "end"
   ]
  },
  {
   "cell_type": "code",
   "execution_count": null,
   "metadata": {
    "scrolled": false
   },
   "outputs": [],
   "source": [
    "MOI.optimize!(model)"
   ]
  },
  {
   "cell_type": "code",
   "execution_count": null,
   "metadata": {},
   "outputs": [],
   "source": [
    "@assert MOI.get(model, MOI.TerminationStatus()) in [MOI.LOCALLY_SOLVED, MOI.OPTIMAL]"
   ]
  },
  {
   "cell_type": "code",
   "execution_count": null,
   "metadata": {},
   "outputs": [],
   "source": [
    "x̄ = MOI.get(model, MOI.VariablePrimal(), x);  # solution"
   ]
  },
  {
   "cell_type": "code",
   "execution_count": null,
   "metadata": {},
   "outputs": [],
   "source": [
    "@assert abs(c'x̄ - c'x̂) <= 1e-8   # sanity check"
   ]
  },
  {
   "cell_type": "markdown",
   "metadata": {},
   "source": [
    "## find and solve dual problem \n",
    "\n",
    "| primal | dual |\n",
    "|--------|------|\n",
    "min c'x  | max b'y\n",
    "st Ax <= b | st A'y >= c\n",
    "    x >= 0 |     y <= 0\n",
    "  \n",
    "- Each primal variable becomes a dual constraint\n",
    "- Each primal constraint becomes a dual variable"
   ]
  },
  {
   "cell_type": "code",
   "execution_count": null,
   "metadata": {},
   "outputs": [],
   "source": [
    "joint_object    = dualize(model)\n",
    "dual_model_like = joint_object.dual_model # this is MOI.ModelLike, not an MOI.AbstractOptimizer; can't call optimizer on it\n",
    "primal_dual_map = joint_object.primal_dual_map;"
   ]
  },
  {
   "cell_type": "code",
   "execution_count": null,
   "metadata": {},
   "outputs": [],
   "source": [
    "# copy the dual model objective, constraints, and variables to an optimizer\n",
    "dual_model = GLPK.Optimizer()\n",
    "MOI.copy_to(dual_model, dual_model_like)\n",
    "\n",
    "# solve dual\n",
    "MOI.optimize!(dual_model);"
   ]
  },
  {
   "cell_type": "code",
   "execution_count": null,
   "metadata": {},
   "outputs": [],
   "source": [
    "# NOTE: You can obtain components of the dual model individually by -\n",
    "# dual_objective = dual_model_like.objective  # b'y\n",
    "# dual_variable_indices = [primal_dual_map.primal_con_dual_var[x][1] for x in constraint_indices]\n",
    "# dual_constraint_indices = [primal_dual_map.primal_var_dual_con[i] for i in x];\n",
    "\n",
    "# ŷ = MOI.get(dm, MOI.VariablePrimal(), dual_variable_indices)"
   ]
  },
  {
   "cell_type": "code",
   "execution_count": null,
   "metadata": {},
   "outputs": [],
   "source": [
    "# check if strong duality holds\n",
    "@assert abs(MOI.get(model, MOI.ObjectiveValue()) - MOI.get(dual_model, MOI.ObjectiveValue())) <= 1e-8"
   ]
  },
  {
   "cell_type": "code",
   "execution_count": null,
   "metadata": {},
   "outputs": [],
   "source": []
  }
 ],
 "metadata": {
  "kernelspec": {
   "display_name": "Julia 1.0.5",
   "language": "julia",
   "name": "julia-1.0"
  },
  "language_info": {
   "file_extension": ".jl",
   "mimetype": "application/julia",
   "name": "julia",
   "version": "1.0.5"
  }
 },
 "nbformat": 4,
 "nbformat_minor": 2
}
