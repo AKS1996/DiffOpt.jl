{
 "cells": [
  {
   "cell_type": "markdown",
   "metadata": {},
   "source": [
    "## solving QP primal"
   ]
  },
  {
   "cell_type": "code",
   "execution_count": null,
   "metadata": {},
   "outputs": [],
   "source": [
    "using Random\n",
    "using OSQP\n",
    "using MathOptInterface\n",
    "\n",
    "const MOI = MathOptInterface;\n",
    "const MOIU = MathOptInterface.Utilities;"
   ]
  },
  {
   "cell_type": "code",
   "execution_count": null,
   "metadata": {},
   "outputs": [],
   "source": [
    "n = 20 # variable dimension\n",
    "m = 10 # no of inequality constraints\n",
    "p = 5; # no of equality constraints"
   ]
  },
  {
   "cell_type": "markdown",
   "metadata": {},
   "source": [
    "## create a non-trivial QP problem"
   ]
  },
  {
   "cell_type": "code",
   "execution_count": null,
   "metadata": {},
   "outputs": [],
   "source": [
    "x̂ = rand(n)\n",
    "P = rand(n, n)\n",
    "P = P'*P # ensure PSD\n",
    "q = rand(n)\n",
    "G = rand(m, n)\n",
    "h = G*x̂ + rand(m)\n",
    "A = rand(p, n)\n",
    "b = A*x̂;"
   ]
  },
  {
   "cell_type": "code",
   "execution_count": null,
   "metadata": {},
   "outputs": [],
   "source": [
    "model = OSQP.Optimizer()\n",
    "x = MOI.add_variables(model, n);"
   ]
  },
  {
   "cell_type": "code",
   "execution_count": null,
   "metadata": {},
   "outputs": [],
   "source": [
    "# define objective\n",
    "\n",
    "quad_terms = MOI.ScalarQuadraticTerm{Float64}[]\n",
    "for i in 1:n\n",
    "    for j in 1:n\n",
    "        push!(quad_terms, MOI.ScalarQuadraticTerm(P[i,j],x[i],x[j]))\n",
    "    end\n",
    "end\n",
    "\n",
    "objective_function = MOI.ScalarQuadraticFunction(MOI.ScalarAffineTerm.(q, x),quad_terms,0.0)\n",
    "MOI.set(model, MOI.ObjectiveFunction{MOI.ScalarQuadraticFunction{Float64}}(), objective_function)\n",
    "MOI.set(model, MOI.ObjectiveSense(), MOI.MIN_SENSE)"
   ]
  },
  {
   "cell_type": "code",
   "execution_count": null,
   "metadata": {},
   "outputs": [],
   "source": [
    "# add constraints\n",
    "for i in 1:m\n",
    "    MOI.add_constraint(model,MOI.ScalarAffineFunction(MOI.ScalarAffineTerm.(G[i], x), -h[i]),MOI.LessThan(0.))\n",
    "end\n",
    "\n",
    "for i in 1:p\n",
    "    MOI.add_constraint(model,MOI.ScalarAffineFunction(MOI.ScalarAffineTerm.(A[i], x), -b[i]),MOI.EqualTo(0.))\n",
    "end\n",
    "\n",
    "for i in 1:n\n",
    "    MOI.add_constraint(model,MOI.SingleVariable(x[i]),MOI.LessThan(1.))\n",
    "    MOI.add_constraint(model,MOI.SingleVariable(x[i]),MOI.GreaterThan(0.))\n",
    "end"
   ]
  },
  {
   "cell_type": "code",
   "execution_count": null,
   "metadata": {
    "scrolled": false
   },
   "outputs": [],
   "source": [
    "MOI.optimize!(model)"
   ]
  },
  {
   "cell_type": "code",
   "execution_count": null,
   "metadata": {},
   "outputs": [],
   "source": []
  }
 ],
 "metadata": {
  "kernelspec": {
   "display_name": "Julia 1.0.5",
   "language": "julia",
   "name": "julia-1.0"
  },
  "language_info": {
   "file_extension": ".jl",
   "mimetype": "application/julia",
   "name": "julia",
   "version": "1.0.5"
  }
 },
 "nbformat": 4,
 "nbformat_minor": 2
}
