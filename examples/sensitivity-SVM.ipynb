{
 "cells": [
  {
   "cell_type": "markdown",
   "metadata": {},
   "source": [
    "# Sensitivity Analysis of SVM using DiffOpt.jl\n",
    "\n",
    "- This notebook illustrates sensitivity analysis of data points in an SVM. \n",
    "- Inspired from http://github.com/matbesancon/SimpleSVMs.jl\n",
    "\n",
    "For reference, Section 10.1 of https://online.stat.psu.edu/stat508/book/export/html/792 gives an intuitive explanation of what does it means to have a sensitive hyperplane or data point. The SVM is defined as:"
   ]
  },
  {
   "cell_type": "markdown",
   "metadata": {},
   "source": [
    "$$\n",
    "\\begin{split}\n",
    "\\begin{array} {ll}\n",
    "\\mbox{minimize} & \\sum_{i=1}^{N} \\xi_{i} \\\\\n",
    "\\mbox{s.t.} & \\xi_{i} \\ge 0 \\quad i=1..N  \\\\\n",
    "            & y_{i} (w^T X_{i} + b) \\ge 1 - \\xi[i]\\\\\n",
    "            & w^2 + b^2 \\le penalty  \\\\\n",
    "\\end{array}\n",
    "\\end{split}\n",
    "$$\n",
    "where\n",
    "- $X$, $y$ are the N data points\n",
    "- $\\xi$ is soft-margin loss\n",
    "- regularization is achieved by adding a $penalty$ constraint"
   ]
  },
  {
   "cell_type": "markdown",
   "metadata": {},
   "source": [
    "## Part 1: Define and solve theSVM"
   ]
  },
  {
   "cell_type": "code",
   "execution_count": 399,
   "metadata": {},
   "outputs": [],
   "source": [
    "import Random\n",
    "using Test\n",
    "import SCS\n",
    "import Plots\n",
    "using DiffOpt\n",
    "using MathOptInterface\n",
    "\n",
    "const MOI = MathOptInterface;"
   ]
  },
  {
   "cell_type": "code",
   "execution_count": 400,
   "metadata": {},
   "outputs": [],
   "source": [
    "Random.seed!(rand(1:100))\n",
    "X = vcat(randn(30, 2), randn(30,2) .+ [4.0,1.5]')\n",
    "y = append!(ones(30), -ones(30));"
   ]
  },
  {
   "cell_type": "code",
   "execution_count": 401,
   "metadata": {},
   "outputs": [
    {
     "data": {
      "text/plain": [
       "MathOptInterface.VariableIndex(64)"
      ]
     },
     "execution_count": 401,
     "metadata": {},
     "output_type": "execute_result"
    }
   ],
   "source": [
    "penalty = 5.0\n",
    "(nobs, nfeat) = size(X)\n",
    "\n",
    "model = diff_optimizer(SCS.Optimizer) \n",
    "\n",
    "# add variables\n",
    "l = MOI.add_variables(model, nobs)\n",
    "w = MOI.add_variables(model, nfeat)\n",
    "b = MOI.add_variable(model)\n",
    "\n",
    "t = MOI.add_variable(model)  # extra variable for the SOC constraint"
   ]
  },
  {
   "cell_type": "code",
   "execution_count": 402,
   "metadata": {},
   "outputs": [
    {
     "data": {
      "text/plain": [
       "MathOptInterface.ConstraintIndex{MathOptInterface.VectorAffineFunction{Float64},MathOptInterface.Nonnegatives}(1)"
      ]
     },
     "execution_count": 402,
     "metadata": {},
     "output_type": "execute_result"
    }
   ],
   "source": [
    "MOI.add_constraint(\n",
    "    model,\n",
    "    MOI.VectorAffineFunction(\n",
    "        MOI.VectorAffineTerm.(1:nobs, MOI.ScalarAffineTerm.(1.0, l)), zeros(nobs)\n",
    "    ), \n",
    "    MOI.Nonnegatives(nobs)\n",
    ")"
   ]
  },
  {
   "cell_type": "code",
   "execution_count": 403,
   "metadata": {},
   "outputs": [
    {
     "data": {
      "text/plain": [
       "MathOptInterface.ConstraintIndex{MathOptInterface.VectorAffineFunction{Float64},MathOptInterface.SecondOrderCone}(3)"
      ]
     },
     "execution_count": 403,
     "metadata": {},
     "output_type": "execute_result"
    }
   ],
   "source": [
    "MOI.add_constraint(\n",
    "    model,\n",
    "    MOI.VectorAffineFunction([MOI.VectorAffineTerm(1, MOI.ScalarAffineTerm(-1.0, t))], [√penalty]),\n",
    "    MOI.Zeros(1)\n",
    ")\n",
    "\n",
    "pen_const = MOI.add_constraint(\n",
    "    model, \n",
    "    MOI.VectorAffineFunction(MOI.VectorAffineTerm.(1:(nfeat+2), MOI.ScalarAffineTerm.(1.0, vcat(t, w,b))), zeros(nfeat+2)), \n",
    "    MOI.SecondOrderCone(nfeat + 2)\n",
    ")"
   ]
  },
  {
   "cell_type": "code",
   "execution_count": 404,
   "metadata": {},
   "outputs": [
    {
     "data": {
      "text/plain": [
       "MathOptInterface.ConstraintIndex{MathOptInterface.VectorAffineFunction{Float64},MathOptInterface.Nonnegatives}(4)"
      ]
     },
     "execution_count": 404,
     "metadata": {},
     "output_type": "execute_result"
    }
   ],
   "source": [
    "# define the whole matrix Ax, it'll be easier then\n",
    "# refer https://discourse.julialang.org/t/solve-minimization-problem-where-constraint-is-the-system-of-linear-inequation-with-mathoptinterface-efficiently/23571/4\n",
    "Ax = Array{MOI.ScalarAffineTerm{Float64}}(undef, nobs, nfeat+2)\n",
    "for i in 1:nobs\n",
    "    Ax[i, :] = MOI.ScalarAffineTerm.([1.0; y[i]*X[i,:]; y[i]], [l[i]; w; b])\n",
    "end\n",
    "terms = MOI.VectorAffineTerm.(1:nobs, Ax)\n",
    "f = MOI.VectorAffineFunction(\n",
    "    vec(terms),\n",
    "    -ones(nobs)\n",
    ")\n",
    "MOI.add_constraint(\n",
    "    model,\n",
    "    f,\n",
    "    MOI.Nonnegatives(nobs)\n",
    ")"
   ]
  },
  {
   "cell_type": "code",
   "execution_count": 405,
   "metadata": {},
   "outputs": [
    {
     "name": "stdout",
     "output_type": "stream",
     "text": [
      "----------------------------------------------------------------------------\n",
      "\tSCS v2.1.2 - Splitting Conic Solver\n",
      "\t(c) Brendan O'Donoghue, Stanford University, 2012\n",
      "----------------------------------------------------------------------------\n",
      "Lin-sys: sparse-indirect, nnz in A = 305, CG tol ~ 1/iter^(2.00)\n",
      "eps = 1.00e-005, alpha = 1.50, max_iters = 5000, normalize = 1, scale = 1.00\n",
      "acceleration_lookback = 10, rho_x = 1.00e-003\n",
      "Variables n = 64, constraints m = 125\n",
      "Cones:\tprimal zero / dual free vars: 1\n",
      "\tlinear vars: 120\n",
      "\tsoc vars: 4, soc blks: 1\n",
      "Setup time: 1.39e-004s\n",
      "----------------------------------------------------------------------------\n",
      " Iter | pri res | dua res | rel gap | pri obj | dua obj | kap/tau | time (s)\n",
      "----------------------------------------------------------------------------\n",
      "     0|6.09e+019 1.84e+020 1.00e+000 -2.52e+021 2.63e+021 1.35e+021 6.81e-005 \n",
      "   100|4.82e-005 1.51e-004 2.12e-004 1.96e+000 1.97e+000 1.83e-015 4.14e-003 \n",
      "   140|3.50e-007 3.47e-006 1.18e-006 1.96e+000 1.96e+000 2.57e-015 5.69e-003 \n",
      "----------------------------------------------------------------------------\n",
      "Status: Solved\n",
      "Timing: Solve time: 5.69e-003s\n",
      "\tLin-sys: avg # CG iterations: 4.97, avg solve time: 1.18e-005s\n",
      "\tCones: avg projection time: 2.85e-007s\n",
      "\tAcceleration: avg step time: 2.38e-005s\n",
      "----------------------------------------------------------------------------\n",
      "Error metrics:\n",
      "dist(s, K) = 9.7992e-017, dist(y, K*) = 0.0000e+000, s'y/|s||y| = -3.8007e-018\n",
      "primal res: |Ax + s - b|_2 / (1 + |b|_2) = 3.5050e-007\n",
      "dual res:   |A'y + c|_2 / (1 + |c|_2) = 3.4680e-006\n",
      "rel gap:    |c'x + b'y| / (1 + |c'x| + |b'y|) = 1.1814e-006\n",
      "----------------------------------------------------------------------------\n",
      "c'x = 1.9635, -b'y = 1.9635\n",
      "============================================================================\n"
     ]
    },
    {
     "data": {
      "text/plain": [
       "1.9417218747693665"
      ]
     },
     "execution_count": 405,
     "metadata": {},
     "output_type": "execute_result"
    }
   ],
   "source": [
    "objective_function = MOI.ScalarAffineFunction(\n",
    "                        MOI.ScalarAffineTerm.(ones(nobs), l),\n",
    "                        0.0\n",
    "                    )\n",
    "MOI.set(model, MOI.ObjectiveFunction{MOI.ScalarQuadraticFunction{Float64}}(), objective_function)\n",
    "MOI.set(model, MOI.ObjectiveSense(), MOI.MIN_SENSE)\n",
    "\n",
    "MOI.optimize!(model);\n",
    "\n",
    "loss = MOI.get(model, MOI.ObjectiveValue())\n",
    "λ = MOI.get(model, MOI.ConstraintDual(), pen_const)[1]\n",
    "wv = MOI.get(model, MOI.VariablePrimal(), w)\n",
    "bv = MOI.get(model, MOI.VariablePrimal(), b)"
   ]
  },
  {
   "cell_type": "code",
   "execution_count": 406,
   "metadata": {
    "scrolled": false
   },
   "outputs": [
    {
     "data": {
      "image/svg+xml": [
       "<?xml version=\"1.0\" encoding=\"utf-8\"?>\n",
       "<svg xmlns=\"http://www.w3.org/2000/svg\" xmlns:xlink=\"http://www.w3.org/1999/xlink\" width=\"600\" height=\"400\" viewBox=\"0 0 2400 1600\">\n",
       "<defs>\n",
       "  <clipPath id=\"clip630\">\n",
       "    <rect x=\"0\" y=\"0\" width=\"2400\" height=\"1600\"/>\n",
       "  </clipPath>\n",
       "</defs>\n",
       "<path clip-path=\"url(#clip630)\" d=\"\n",
       "M0 1600 L2400 1600 L2400 0 L0 0  Z\n",
       "  \" fill=\"#ffffff\" fill-rule=\"evenodd\" fill-opacity=\"1\"/>\n",
       "<defs>\n",
       "  <clipPath id=\"clip631\">\n",
       "    <rect x=\"480\" y=\"0\" width=\"1681\" height=\"1600\"/>\n",
       "  </clipPath>\n",
       "</defs>\n",
       "<path clip-path=\"url(#clip630)\" d=\"\n",
       "M125.256 1486.45 L2352.76 1486.45 L2352.76 47.2441 L125.256 47.2441  Z\n",
       "  \" fill=\"#ffffff\" fill-rule=\"evenodd\" fill-opacity=\"1\"/>\n",
       "<defs>\n",
       "  <clipPath id=\"clip632\">\n",
       "    <rect x=\"125\" y=\"47\" width=\"2229\" height=\"1440\"/>\n",
       "  </clipPath>\n",
       "</defs>\n",
       "<polyline clip-path=\"url(#clip632)\" style=\"stroke:#000000; stroke-width:2; stroke-opacity:0.1; fill:none\" points=\"\n",
       "  659.522,1486.45 659.522,47.2441 \n",
       "  \"/>\n",
       "<polyline clip-path=\"url(#clip632)\" style=\"stroke:#000000; stroke-width:2; stroke-opacity:0.1; fill:none\" points=\"\n",
       "  1210.13,1486.45 1210.13,47.2441 \n",
       "  \"/>\n",
       "<polyline clip-path=\"url(#clip632)\" style=\"stroke:#000000; stroke-width:2; stroke-opacity:0.1; fill:none\" points=\"\n",
       "  1760.74,1486.45 1760.74,47.2441 \n",
       "  \"/>\n",
       "<polyline clip-path=\"url(#clip632)\" style=\"stroke:#000000; stroke-width:2; stroke-opacity:0.1; fill:none\" points=\"\n",
       "  2311.35,1486.45 2311.35,47.2441 \n",
       "  \"/>\n",
       "<polyline clip-path=\"url(#clip632)\" style=\"stroke:#000000; stroke-width:2; stroke-opacity:0.1; fill:none\" points=\"\n",
       "  125.256,1486.45 2352.76,1486.45 \n",
       "  \"/>\n",
       "<polyline clip-path=\"url(#clip632)\" style=\"stroke:#000000; stroke-width:2; stroke-opacity:0.1; fill:none\" points=\"\n",
       "  125.256,1265.03 2352.76,1265.03 \n",
       "  \"/>\n",
       "<polyline clip-path=\"url(#clip632)\" style=\"stroke:#000000; stroke-width:2; stroke-opacity:0.1; fill:none\" points=\"\n",
       "  125.256,1043.62 2352.76,1043.62 \n",
       "  \"/>\n",
       "<polyline clip-path=\"url(#clip632)\" style=\"stroke:#000000; stroke-width:2; stroke-opacity:0.1; fill:none\" points=\"\n",
       "  125.256,822.2 2352.76,822.2 \n",
       "  \"/>\n",
       "<polyline clip-path=\"url(#clip632)\" style=\"stroke:#000000; stroke-width:2; stroke-opacity:0.1; fill:none\" points=\"\n",
       "  125.256,600.784 2352.76,600.784 \n",
       "  \"/>\n",
       "<polyline clip-path=\"url(#clip632)\" style=\"stroke:#000000; stroke-width:2; stroke-opacity:0.1; fill:none\" points=\"\n",
       "  125.256,379.368 2352.76,379.368 \n",
       "  \"/>\n",
       "<polyline clip-path=\"url(#clip632)\" style=\"stroke:#000000; stroke-width:2; stroke-opacity:0.1; fill:none\" points=\"\n",
       "  125.256,157.952 2352.76,157.952 \n",
       "  \"/>\n",
       "<polyline clip-path=\"url(#clip630)\" style=\"stroke:#000000; stroke-width:4; stroke-opacity:1; fill:none\" points=\"\n",
       "  125.256,1486.45 2352.76,1486.45 \n",
       "  \"/>\n",
       "<polyline clip-path=\"url(#clip630)\" style=\"stroke:#000000; stroke-width:4; stroke-opacity:1; fill:none\" points=\"\n",
       "  125.256,1486.45 125.256,47.2441 \n",
       "  \"/>\n",
       "<polyline clip-path=\"url(#clip630)\" style=\"stroke:#000000; stroke-width:4; stroke-opacity:1; fill:none\" points=\"\n",
       "  659.522,1486.45 659.522,1469.18 \n",
       "  \"/>\n",
       "<polyline clip-path=\"url(#clip630)\" style=\"stroke:#000000; stroke-width:4; stroke-opacity:1; fill:none\" points=\"\n",
       "  1210.13,1486.45 1210.13,1469.18 \n",
       "  \"/>\n",
       "<polyline clip-path=\"url(#clip630)\" style=\"stroke:#000000; stroke-width:4; stroke-opacity:1; fill:none\" points=\"\n",
       "  1760.74,1486.45 1760.74,1469.18 \n",
       "  \"/>\n",
       "<polyline clip-path=\"url(#clip630)\" style=\"stroke:#000000; stroke-width:4; stroke-opacity:1; fill:none\" points=\"\n",
       "  2311.35,1486.45 2311.35,1469.18 \n",
       "  \"/>\n",
       "<polyline clip-path=\"url(#clip630)\" style=\"stroke:#000000; stroke-width:4; stroke-opacity:1; fill:none\" points=\"\n",
       "  125.256,1486.45 151.986,1486.45 \n",
       "  \"/>\n",
       "<polyline clip-path=\"url(#clip630)\" style=\"stroke:#000000; stroke-width:4; stroke-opacity:1; fill:none\" points=\"\n",
       "  125.256,1265.03 151.986,1265.03 \n",
       "  \"/>\n",
       "<polyline clip-path=\"url(#clip630)\" style=\"stroke:#000000; stroke-width:4; stroke-opacity:1; fill:none\" points=\"\n",
       "  125.256,1043.62 151.986,1043.62 \n",
       "  \"/>\n",
       "<polyline clip-path=\"url(#clip630)\" style=\"stroke:#000000; stroke-width:4; stroke-opacity:1; fill:none\" points=\"\n",
       "  125.256,822.2 151.986,822.2 \n",
       "  \"/>\n",
       "<polyline clip-path=\"url(#clip630)\" style=\"stroke:#000000; stroke-width:4; stroke-opacity:1; fill:none\" points=\"\n",
       "  125.256,600.784 151.986,600.784 \n",
       "  \"/>\n",
       "<polyline clip-path=\"url(#clip630)\" style=\"stroke:#000000; stroke-width:4; stroke-opacity:1; fill:none\" points=\"\n",
       "  125.256,379.368 151.986,379.368 \n",
       "  \"/>\n",
       "<polyline clip-path=\"url(#clip630)\" style=\"stroke:#000000; stroke-width:4; stroke-opacity:1; fill:none\" points=\"\n",
       "  125.256,157.952 151.986,157.952 \n",
       "  \"/>\n",
       "<path clip-path=\"url(#clip630)\" d=\"M 0 0 M659.522 1508.44 Q655.911 1508.44 654.082 1512 Q652.276 1515.55 652.276 1522.67 Q652.276 1529.78 654.082 1533.35 Q655.911 1536.89 659.522 1536.89 Q663.156 1536.89 664.962 1533.35 Q666.79 1529.78 666.79 1522.67 Q666.79 1515.55 664.962 1512 Q663.156 1508.44 659.522 1508.44 M659.522 1504.73 Q665.332 1504.73 668.388 1509.34 Q671.466 1513.92 671.466 1522.67 Q671.466 1531.4 668.388 1536.01 Q665.332 1540.59 659.522 1540.59 Q653.712 1540.59 650.633 1536.01 Q647.577 1531.4 647.577 1522.67 Q647.577 1513.92 650.633 1509.34 Q653.712 1504.73 659.522 1504.73 Z\" fill=\"#000000\" fill-rule=\"evenodd\" fill-opacity=\"1\" /><path clip-path=\"url(#clip630)\" d=\"M 0 0 M1204.78 1535.98 L1221.1 1535.98 L1221.1 1539.92 L1199.16 1539.92 L1199.16 1535.98 Q1201.82 1533.23 1206.4 1528.6 Q1211.01 1523.95 1212.19 1522.61 Q1214.44 1520.08 1215.31 1518.35 Q1216.22 1516.59 1216.22 1514.9 Q1216.22 1512.14 1214.27 1510.41 Q1212.35 1508.67 1209.25 1508.67 Q1207.05 1508.67 1204.6 1509.43 Q1202.17 1510.2 1199.39 1511.75 L1199.39 1507.03 Q1202.21 1505.89 1204.67 1505.31 Q1207.12 1504.73 1209.16 1504.73 Q1214.53 1504.73 1217.72 1507.42 Q1220.92 1510.11 1220.92 1514.6 Q1220.92 1516.73 1220.11 1518.65 Q1219.32 1520.54 1217.21 1523.14 Q1216.63 1523.81 1213.53 1527.03 Q1210.43 1530.22 1204.78 1535.98 Z\" fill=\"#000000\" fill-rule=\"evenodd\" fill-opacity=\"1\" /><path clip-path=\"url(#clip630)\" d=\"M 0 0 M1763.75 1509.43 L1751.94 1527.88 L1763.75 1527.88 L1763.75 1509.43 M1762.52 1505.36 L1768.4 1505.36 L1768.4 1527.88 L1773.33 1527.88 L1773.33 1531.77 L1768.4 1531.77 L1768.4 1539.92 L1763.75 1539.92 L1763.75 1531.77 L1748.14 1531.77 L1748.14 1527.26 L1762.52 1505.36 Z\" fill=\"#000000\" fill-rule=\"evenodd\" fill-opacity=\"1\" /><path clip-path=\"url(#clip630)\" d=\"M 0 0 M2311.75 1520.78 Q2308.6 1520.78 2306.75 1522.93 Q2304.92 1525.08 2304.92 1528.83 Q2304.92 1532.56 2306.75 1534.73 Q2308.6 1536.89 2311.75 1536.89 Q2314.9 1536.89 2316.73 1534.73 Q2318.58 1532.56 2318.58 1528.83 Q2318.58 1525.08 2316.73 1522.93 Q2314.9 1520.78 2311.75 1520.78 M2321.03 1506.12 L2321.03 1510.38 Q2319.27 1509.55 2317.47 1509.11 Q2315.69 1508.67 2313.93 1508.67 Q2309.3 1508.67 2306.84 1511.8 Q2304.41 1514.92 2304.07 1521.24 Q2305.43 1519.23 2307.49 1518.16 Q2309.55 1517.07 2312.03 1517.07 Q2317.24 1517.07 2320.25 1520.24 Q2323.28 1523.39 2323.28 1528.83 Q2323.28 1534.16 2320.13 1537.37 Q2316.98 1540.59 2311.75 1540.59 Q2305.75 1540.59 2302.58 1536.01 Q2299.41 1531.4 2299.41 1522.67 Q2299.41 1514.48 2303.3 1509.62 Q2307.19 1504.73 2313.74 1504.73 Q2315.5 1504.73 2317.28 1505.08 Q2319.09 1505.43 2321.03 1506.12 Z\" fill=\"#000000\" fill-rule=\"evenodd\" fill-opacity=\"1\" /><path clip-path=\"url(#clip630)\" d=\"M 0 0 M63.3625 1488.84 L75.8393 1488.84 L75.8393 1492.64 L63.3625 1492.64 L63.3625 1488.84 Z\" fill=\"#000000\" fill-rule=\"evenodd\" fill-opacity=\"1\" /><path clip-path=\"url(#clip630)\" d=\"M 0 0 M84.9365 1499.79 L101.256 1499.79 L101.256 1503.73 L79.3115 1503.73 L79.3115 1499.79 Q81.9735 1497.04 86.5568 1492.41 Q91.1633 1487.76 92.3438 1486.41 Q94.5892 1483.89 95.4688 1482.15 Q96.3716 1480.39 96.3716 1478.7 Q96.3716 1475.95 94.4271 1474.21 Q92.5059 1472.48 89.404 1472.48 Q87.205 1472.48 84.7513 1473.24 Q82.3207 1474.01 79.543 1475.56 L79.543 1470.83 Q82.367 1469.7 84.8207 1469.12 Q87.2744 1468.54 89.3114 1468.54 Q94.6818 1468.54 97.8762 1471.23 Q101.071 1473.91 101.071 1478.4 Q101.071 1480.53 100.26 1482.45 Q99.4734 1484.35 97.3669 1486.95 Q96.7882 1487.62 93.6864 1490.83 Q90.5846 1494.03 84.9365 1499.79 Z\" fill=\"#000000\" fill-rule=\"evenodd\" fill-opacity=\"1\" /><path clip-path=\"url(#clip630)\" d=\"M 0 0 M62.9921 1267.43 L75.4689 1267.43 L75.4689 1271.22 L62.9921 1271.22 L62.9921 1267.43 Z\" fill=\"#000000\" fill-rule=\"evenodd\" fill-opacity=\"1\" /><path clip-path=\"url(#clip630)\" d=\"M 0 0 M81.3485 1278.38 L88.9874 1278.38 L88.9874 1252.01 L80.6772 1253.68 L80.6772 1249.42 L88.9411 1247.75 L93.617 1247.75 L93.617 1278.38 L101.256 1278.38 L101.256 1282.31 L81.3485 1282.31 L81.3485 1278.38 Z\" fill=\"#000000\" fill-rule=\"evenodd\" fill-opacity=\"1\" /><path clip-path=\"url(#clip630)\" d=\"M 0 0 M89.3114 1029.41 Q85.7003 1029.41 83.8716 1032.98 Q82.0661 1036.52 82.0661 1043.65 Q82.0661 1050.76 83.8716 1054.32 Q85.7003 1057.86 89.3114 1057.86 Q92.9457 1057.86 94.7512 1054.32 Q96.5799 1050.76 96.5799 1043.65 Q96.5799 1036.52 94.7512 1032.98 Q92.9457 1029.41 89.3114 1029.41 M89.3114 1025.71 Q95.1216 1025.71 98.1771 1030.32 Q101.256 1034.9 101.256 1043.65 Q101.256 1052.38 98.1771 1056.98 Q95.1216 1061.57 89.3114 1061.57 Q83.5013 1061.57 80.4226 1056.98 Q77.367 1052.38 77.367 1043.65 Q77.367 1034.9 80.4226 1030.32 Q83.5013 1025.71 89.3114 1025.71 Z\" fill=\"#000000\" fill-rule=\"evenodd\" fill-opacity=\"1\" /><path clip-path=\"url(#clip630)\" d=\"M 0 0 M81.3485 835.545 L88.9874 835.545 L88.9874 809.179 L80.6772 810.846 L80.6772 806.587 L88.9411 804.92 L93.617 804.92 L93.617 835.545 L101.256 835.545 L101.256 839.48 L81.3485 839.48 L81.3485 835.545 Z\" fill=\"#000000\" fill-rule=\"evenodd\" fill-opacity=\"1\" /><path clip-path=\"url(#clip630)\" d=\"M 0 0 M84.9365 614.129 L101.256 614.129 L101.256 618.064 L79.3115 618.064 L79.3115 614.129 Q81.9735 611.374 86.5568 606.745 Q91.1633 602.092 92.3438 600.749 Q94.5892 598.226 95.4688 596.49 Q96.3716 594.731 96.3716 593.041 Q96.3716 590.286 94.4271 588.55 Q92.5059 586.814 89.404 586.814 Q87.205 586.814 84.7513 587.578 Q82.3207 588.342 79.543 589.893 L79.543 585.171 Q82.367 584.036 84.8207 583.458 Q87.2744 582.879 89.3114 582.879 Q94.6818 582.879 97.8762 585.564 Q101.071 588.249 101.071 592.74 Q101.071 594.87 100.26 596.791 Q99.4734 598.689 97.3669 601.282 Q96.7882 601.953 93.6864 605.171 Q90.5846 608.365 84.9365 614.129 Z\" fill=\"#000000\" fill-rule=\"evenodd\" fill-opacity=\"1\" /><path clip-path=\"url(#clip630)\" d=\"M 0 0 M94.1262 378.014 Q97.4827 378.731 99.3577 381 Q101.256 383.268 101.256 386.602 Q101.256 391.718 97.7373 394.518 Q94.2188 397.319 87.7374 397.319 Q85.5614 397.319 83.2466 396.88 Q80.955 396.463 78.5013 395.606 L78.5013 391.093 Q80.4457 392.227 82.7605 392.805 Q85.0753 393.384 87.5985 393.384 Q91.9966 393.384 94.2883 391.648 Q96.6031 389.912 96.6031 386.602 Q96.6031 383.546 94.4503 381.833 Q92.3207 380.097 88.5012 380.097 L84.4735 380.097 L84.4735 376.255 L88.6864 376.255 Q92.1355 376.255 93.9642 374.889 Q95.7929 373.5 95.7929 370.907 Q95.7929 368.245 93.8947 366.833 Q92.0197 365.398 88.5012 365.398 Q86.58 365.398 84.3809 365.815 Q82.1818 366.232 79.543 367.111 L79.543 362.945 Q82.205 362.204 84.5198 361.833 Q86.8577 361.463 88.9179 361.463 Q94.242 361.463 97.3438 363.894 Q100.446 366.301 100.446 370.421 Q100.446 373.292 98.8021 375.282 Q97.1586 377.25 94.1262 378.014 Z\" fill=\"#000000\" fill-rule=\"evenodd\" fill-opacity=\"1\" /><path clip-path=\"url(#clip630)\" d=\"M 0 0 M91.6725 144.746 L79.867 163.195 L91.6725 163.195 L91.6725 144.746 M90.4457 140.672 L96.3253 140.672 L96.3253 163.195 L101.256 163.195 L101.256 167.084 L96.3253 167.084 L96.3253 175.232 L91.6725 175.232 L91.6725 167.084 L76.0708 167.084 L76.0708 162.57 L90.4457 140.672 Z\" fill=\"#000000\" fill-rule=\"evenodd\" fill-opacity=\"1\" /><circle clip-path=\"url(#clip632)\" cx=\"1253.23\" cy=\"1188.43\" r=\"14\" fill=\"#ff0000\" fill-rule=\"evenodd\" fill-opacity=\"1\" stroke=\"#000000\" stroke-opacity=\"1\" stroke-width=\"3.2\"/>\n",
       "<circle clip-path=\"url(#clip632)\" cx=\"188.298\" cy=\"1033.58\" r=\"14\" fill=\"#ff0000\" fill-rule=\"evenodd\" fill-opacity=\"1\" stroke=\"#000000\" stroke-opacity=\"1\" stroke-width=\"3.2\"/>\n",
       "<circle clip-path=\"url(#clip632)\" cx=\"587.518\" cy=\"1454.74\" r=\"14\" fill=\"#ff0000\" fill-rule=\"evenodd\" fill-opacity=\"1\" stroke=\"#000000\" stroke-opacity=\"1\" stroke-width=\"3.2\"/>\n",
       "<circle clip-path=\"url(#clip632)\" cx=\"363.158\" cy=\"1010.91\" r=\"14\" fill=\"#ff0000\" fill-rule=\"evenodd\" fill-opacity=\"1\" stroke=\"#000000\" stroke-opacity=\"1\" stroke-width=\"3.2\"/>\n",
       "<circle clip-path=\"url(#clip632)\" cx=\"634.753\" cy=\"741.644\" r=\"14\" fill=\"#ff0000\" fill-rule=\"evenodd\" fill-opacity=\"1\" stroke=\"#000000\" stroke-opacity=\"1\" stroke-width=\"3.2\"/>\n",
       "<circle clip-path=\"url(#clip632)\" cx=\"439.085\" cy=\"965.346\" r=\"14\" fill=\"#ff0000\" fill-rule=\"evenodd\" fill-opacity=\"1\" stroke=\"#000000\" stroke-opacity=\"1\" stroke-width=\"3.2\"/>\n",
       "<circle clip-path=\"url(#clip632)\" cx=\"827.233\" cy=\"939.14\" r=\"14\" fill=\"#ff0000\" fill-rule=\"evenodd\" fill-opacity=\"1\" stroke=\"#000000\" stroke-opacity=\"1\" stroke-width=\"3.2\"/>\n",
       "<circle clip-path=\"url(#clip632)\" cx=\"963.188\" cy=\"749.138\" r=\"14\" fill=\"#ff0000\" fill-rule=\"evenodd\" fill-opacity=\"1\" stroke=\"#000000\" stroke-opacity=\"1\" stroke-width=\"3.2\"/>\n",
       "<circle clip-path=\"url(#clip632)\" cx=\"387.863\" cy=\"1205.07\" r=\"14\" fill=\"#ff0000\" fill-rule=\"evenodd\" fill-opacity=\"1\" stroke=\"#000000\" stroke-opacity=\"1\" stroke-width=\"3.2\"/>\n",
       "<circle clip-path=\"url(#clip632)\" cx=\"570.784\" cy=\"1146.75\" r=\"14\" fill=\"#ff0000\" fill-rule=\"evenodd\" fill-opacity=\"1\" stroke=\"#000000\" stroke-opacity=\"1\" stroke-width=\"3.2\"/>\n",
       "<circle clip-path=\"url(#clip632)\" cx=\"951.813\" cy=\"1105.73\" r=\"14\" fill=\"#ff0000\" fill-rule=\"evenodd\" fill-opacity=\"1\" stroke=\"#000000\" stroke-opacity=\"1\" stroke-width=\"3.2\"/>\n",
       "<circle clip-path=\"url(#clip632)\" cx=\"514.155\" cy=\"1309.68\" r=\"14\" fill=\"#ff0000\" fill-rule=\"evenodd\" fill-opacity=\"1\" stroke=\"#000000\" stroke-opacity=\"1\" stroke-width=\"3.2\"/>\n",
       "<circle clip-path=\"url(#clip632)\" cx=\"757.269\" cy=\"1458.01\" r=\"14\" fill=\"#ff0000\" fill-rule=\"evenodd\" fill-opacity=\"1\" stroke=\"#000000\" stroke-opacity=\"1\" stroke-width=\"3.2\"/>\n",
       "<circle clip-path=\"url(#clip632)\" cx=\"929.372\" cy=\"1225.9\" r=\"14\" fill=\"#ff0000\" fill-rule=\"evenodd\" fill-opacity=\"1\" stroke=\"#000000\" stroke-opacity=\"1\" stroke-width=\"3.2\"/>\n",
       "<circle clip-path=\"url(#clip632)\" cx=\"661.033\" cy=\"1320.32\" r=\"14\" fill=\"#ff0000\" fill-rule=\"evenodd\" fill-opacity=\"1\" stroke=\"#000000\" stroke-opacity=\"1\" stroke-width=\"3.2\"/>\n",
       "<circle clip-path=\"url(#clip632)\" cx=\"193.032\" cy=\"1151.52\" r=\"14\" fill=\"#ff0000\" fill-rule=\"evenodd\" fill-opacity=\"1\" stroke=\"#000000\" stroke-opacity=\"1\" stroke-width=\"3.2\"/>\n",
       "<circle clip-path=\"url(#clip632)\" cx=\"455.264\" cy=\"1145.3\" r=\"14\" fill=\"#ff0000\" fill-rule=\"evenodd\" fill-opacity=\"1\" stroke=\"#000000\" stroke-opacity=\"1\" stroke-width=\"3.2\"/>\n",
       "<circle clip-path=\"url(#clip632)\" cx=\"372.131\" cy=\"1260.83\" r=\"14\" fill=\"#ff0000\" fill-rule=\"evenodd\" fill-opacity=\"1\" stroke=\"#000000\" stroke-opacity=\"1\" stroke-width=\"3.2\"/>\n",
       "<circle clip-path=\"url(#clip632)\" cx=\"362.162\" cy=\"1462.81\" r=\"14\" fill=\"#ff0000\" fill-rule=\"evenodd\" fill-opacity=\"1\" stroke=\"#000000\" stroke-opacity=\"1\" stroke-width=\"3.2\"/>\n",
       "<circle clip-path=\"url(#clip632)\" cx=\"423.919\" cy=\"1087.29\" r=\"14\" fill=\"#ff0000\" fill-rule=\"evenodd\" fill-opacity=\"1\" stroke=\"#000000\" stroke-opacity=\"1\" stroke-width=\"3.2\"/>\n",
       "<circle clip-path=\"url(#clip632)\" cx=\"350.634\" cy=\"1100.14\" r=\"14\" fill=\"#ff0000\" fill-rule=\"evenodd\" fill-opacity=\"1\" stroke=\"#000000\" stroke-opacity=\"1\" stroke-width=\"3.2\"/>\n",
       "<circle clip-path=\"url(#clip632)\" cx=\"742.835\" cy=\"928.538\" r=\"14\" fill=\"#ff0000\" fill-rule=\"evenodd\" fill-opacity=\"1\" stroke=\"#000000\" stroke-opacity=\"1\" stroke-width=\"3.2\"/>\n",
       "<circle clip-path=\"url(#clip632)\" cx=\"1023.95\" cy=\"1167.33\" r=\"14\" fill=\"#ff0000\" fill-rule=\"evenodd\" fill-opacity=\"1\" stroke=\"#000000\" stroke-opacity=\"1\" stroke-width=\"3.2\"/>\n",
       "<circle clip-path=\"url(#clip632)\" cx=\"619.209\" cy=\"623.109\" r=\"14\" fill=\"#ff0000\" fill-rule=\"evenodd\" fill-opacity=\"1\" stroke=\"#000000\" stroke-opacity=\"1\" stroke-width=\"3.2\"/>\n",
       "<circle clip-path=\"url(#clip632)\" cx=\"649.997\" cy=\"935.851\" r=\"14\" fill=\"#ff0000\" fill-rule=\"evenodd\" fill-opacity=\"1\" stroke=\"#000000\" stroke-opacity=\"1\" stroke-width=\"3.2\"/>\n",
       "<circle clip-path=\"url(#clip632)\" cx=\"552.889\" cy=\"1124.46\" r=\"14\" fill=\"#ff0000\" fill-rule=\"evenodd\" fill-opacity=\"1\" stroke=\"#000000\" stroke-opacity=\"1\" stroke-width=\"3.2\"/>\n",
       "<circle clip-path=\"url(#clip632)\" cx=\"350.392\" cy=\"717.14\" r=\"14\" fill=\"#ff0000\" fill-rule=\"evenodd\" fill-opacity=\"1\" stroke=\"#000000\" stroke-opacity=\"1\" stroke-width=\"3.2\"/>\n",
       "<circle clip-path=\"url(#clip632)\" cx=\"951.693\" cy=\"1283.07\" r=\"14\" fill=\"#ff0000\" fill-rule=\"evenodd\" fill-opacity=\"1\" stroke=\"#000000\" stroke-opacity=\"1\" stroke-width=\"3.2\"/>\n",
       "<circle clip-path=\"url(#clip632)\" cx=\"1632.14\" cy=\"857.935\" r=\"14\" fill=\"#0000ff\" fill-rule=\"evenodd\" fill-opacity=\"1\" stroke=\"#000000\" stroke-opacity=\"1\" stroke-width=\"3.2\"/>\n",
       "<circle clip-path=\"url(#clip632)\" cx=\"1618.31\" cy=\"584.393\" r=\"14\" fill=\"#0000ff\" fill-rule=\"evenodd\" fill-opacity=\"1\" stroke=\"#000000\" stroke-opacity=\"1\" stroke-width=\"3.2\"/>\n",
       "<circle clip-path=\"url(#clip632)\" cx=\"1714.42\" cy=\"509.524\" r=\"14\" fill=\"#0000ff\" fill-rule=\"evenodd\" fill-opacity=\"1\" stroke=\"#000000\" stroke-opacity=\"1\" stroke-width=\"3.2\"/>\n",
       "<circle clip-path=\"url(#clip632)\" cx=\"1680.31\" cy=\"1211.89\" r=\"14\" fill=\"#0000ff\" fill-rule=\"evenodd\" fill-opacity=\"1\" stroke=\"#000000\" stroke-opacity=\"1\" stroke-width=\"3.2\"/>\n",
       "<circle clip-path=\"url(#clip632)\" cx=\"2070.65\" cy=\"571.803\" r=\"14\" fill=\"#0000ff\" fill-rule=\"evenodd\" fill-opacity=\"1\" stroke=\"#000000\" stroke-opacity=\"1\" stroke-width=\"3.2\"/>\n",
       "<circle clip-path=\"url(#clip632)\" cx=\"1498.82\" cy=\"769.325\" r=\"14\" fill=\"#0000ff\" fill-rule=\"evenodd\" fill-opacity=\"1\" stroke=\"#000000\" stroke-opacity=\"1\" stroke-width=\"3.2\"/>\n",
       "<circle clip-path=\"url(#clip632)\" cx=\"2134.65\" cy=\"722.742\" r=\"14\" fill=\"#0000ff\" fill-rule=\"evenodd\" fill-opacity=\"1\" stroke=\"#000000\" stroke-opacity=\"1\" stroke-width=\"3.2\"/>\n",
       "<circle clip-path=\"url(#clip632)\" cx=\"2105.7\" cy=\"1167.83\" r=\"14\" fill=\"#0000ff\" fill-rule=\"evenodd\" fill-opacity=\"1\" stroke=\"#000000\" stroke-opacity=\"1\" stroke-width=\"3.2\"/>\n",
       "<circle clip-path=\"url(#clip632)\" cx=\"2062.16\" cy=\"614.203\" r=\"14\" fill=\"#0000ff\" fill-rule=\"evenodd\" fill-opacity=\"1\" stroke=\"#000000\" stroke-opacity=\"1\" stroke-width=\"3.2\"/>\n",
       "<circle clip-path=\"url(#clip632)\" cx=\"1724.4\" cy=\"826.675\" r=\"14\" fill=\"#0000ff\" fill-rule=\"evenodd\" fill-opacity=\"1\" stroke=\"#000000\" stroke-opacity=\"1\" stroke-width=\"3.2\"/>\n",
       "<circle clip-path=\"url(#clip632)\" cx=\"1519.57\" cy=\"724.915\" r=\"14\" fill=\"#0000ff\" fill-rule=\"evenodd\" fill-opacity=\"1\" stroke=\"#000000\" stroke-opacity=\"1\" stroke-width=\"3.2\"/>\n",
       "<circle clip-path=\"url(#clip632)\" cx=\"1701.71\" cy=\"849.735\" r=\"14\" fill=\"#0000ff\" fill-rule=\"evenodd\" fill-opacity=\"1\" stroke=\"#000000\" stroke-opacity=\"1\" stroke-width=\"3.2\"/>\n",
       "<circle clip-path=\"url(#clip632)\" cx=\"1297.55\" cy=\"843.952\" r=\"14\" fill=\"#0000ff\" fill-rule=\"evenodd\" fill-opacity=\"1\" stroke=\"#000000\" stroke-opacity=\"1\" stroke-width=\"3.2\"/>\n",
       "<circle clip-path=\"url(#clip632)\" cx=\"1743.61\" cy=\"770.515\" r=\"14\" fill=\"#0000ff\" fill-rule=\"evenodd\" fill-opacity=\"1\" stroke=\"#000000\" stroke-opacity=\"1\" stroke-width=\"3.2\"/>\n",
       "<circle clip-path=\"url(#clip632)\" cx=\"1720.4\" cy=\"347.408\" r=\"14\" fill=\"#0000ff\" fill-rule=\"evenodd\" fill-opacity=\"1\" stroke=\"#000000\" stroke-opacity=\"1\" stroke-width=\"3.2\"/>\n",
       "<circle clip-path=\"url(#clip632)\" cx=\"1645.88\" cy=\"1000.71\" r=\"14\" fill=\"#0000ff\" fill-rule=\"evenodd\" fill-opacity=\"1\" stroke=\"#000000\" stroke-opacity=\"1\" stroke-width=\"3.2\"/>\n",
       "<circle clip-path=\"url(#clip632)\" cx=\"1660.01\" cy=\"618.162\" r=\"14\" fill=\"#0000ff\" fill-rule=\"evenodd\" fill-opacity=\"1\" stroke=\"#000000\" stroke-opacity=\"1\" stroke-width=\"3.2\"/>\n",
       "<circle clip-path=\"url(#clip632)\" cx=\"1293.95\" cy=\"805.82\" r=\"14\" fill=\"#0000ff\" fill-rule=\"evenodd\" fill-opacity=\"1\" stroke=\"#000000\" stroke-opacity=\"1\" stroke-width=\"3.2\"/>\n",
       "<circle clip-path=\"url(#clip632)\" cx=\"1461.38\" cy=\"688.914\" r=\"14\" fill=\"#0000ff\" fill-rule=\"evenodd\" fill-opacity=\"1\" stroke=\"#000000\" stroke-opacity=\"1\" stroke-width=\"3.2\"/>\n",
       "<circle clip-path=\"url(#clip632)\" cx=\"1417.13\" cy=\"298.579\" r=\"14\" fill=\"#0000ff\" fill-rule=\"evenodd\" fill-opacity=\"1\" stroke=\"#000000\" stroke-opacity=\"1\" stroke-width=\"3.2\"/>\n",
       "<circle clip-path=\"url(#clip632)\" cx=\"1484.95\" cy=\"829.046\" r=\"14\" fill=\"#0000ff\" fill-rule=\"evenodd\" fill-opacity=\"1\" stroke=\"#000000\" stroke-opacity=\"1\" stroke-width=\"3.2\"/>\n",
       "<circle clip-path=\"url(#clip632)\" cx=\"1801.48\" cy=\"433.672\" r=\"14\" fill=\"#0000ff\" fill-rule=\"evenodd\" fill-opacity=\"1\" stroke=\"#000000\" stroke-opacity=\"1\" stroke-width=\"3.2\"/>\n",
       "<circle clip-path=\"url(#clip632)\" cx=\"2289.71\" cy=\"800.123\" r=\"14\" fill=\"#0000ff\" fill-rule=\"evenodd\" fill-opacity=\"1\" stroke=\"#000000\" stroke-opacity=\"1\" stroke-width=\"3.2\"/>\n",
       "<circle clip-path=\"url(#clip632)\" cx=\"1929.45\" cy=\"692.046\" r=\"14\" fill=\"#0000ff\" fill-rule=\"evenodd\" fill-opacity=\"1\" stroke=\"#000000\" stroke-opacity=\"1\" stroke-width=\"3.2\"/>\n",
       "<circle clip-path=\"url(#clip632)\" cx=\"2095.9\" cy=\"922.62\" r=\"14\" fill=\"#0000ff\" fill-rule=\"evenodd\" fill-opacity=\"1\" stroke=\"#000000\" stroke-opacity=\"1\" stroke-width=\"3.2\"/>\n",
       "<circle clip-path=\"url(#clip632)\" cx=\"1482.87\" cy=\"483.306\" r=\"14\" fill=\"#0000ff\" fill-rule=\"evenodd\" fill-opacity=\"1\" stroke=\"#000000\" stroke-opacity=\"1\" stroke-width=\"3.2\"/>\n",
       "<circle clip-path=\"url(#clip632)\" cx=\"1883.87\" cy=\"439.084\" r=\"14\" fill=\"#0000ff\" fill-rule=\"evenodd\" fill-opacity=\"1\" stroke=\"#000000\" stroke-opacity=\"1\" stroke-width=\"3.2\"/>\n",
       "<circle clip-path=\"url(#clip632)\" cx=\"1958.19\" cy=\"673.676\" r=\"14\" fill=\"#0000ff\" fill-rule=\"evenodd\" fill-opacity=\"1\" stroke=\"#000000\" stroke-opacity=\"1\" stroke-width=\"3.2\"/>\n",
       "<circle clip-path=\"url(#clip632)\" cx=\"1798.04\" cy=\"870.583\" r=\"14\" fill=\"#0000ff\" fill-rule=\"evenodd\" fill-opacity=\"1\" stroke=\"#000000\" stroke-opacity=\"1\" stroke-width=\"3.2\"/>\n",
       "<circle clip-path=\"url(#clip632)\" cx=\"2043.93\" cy=\"575.177\" r=\"14\" fill=\"#0000ff\" fill-rule=\"evenodd\" fill-opacity=\"1\" stroke=\"#000000\" stroke-opacity=\"1\" stroke-width=\"3.2\"/>\n",
       "<polyline clip-path=\"url(#clip632)\" style=\"stroke:#e26f46; stroke-width:4; stroke-opacity:1; fill:none\" points=\"\n",
       "  659.522,288.343 1210.13,1028.69 \n",
       "  \"/>\n",
       "<path clip-path=\"url(#clip630)\" d=\"\n",
       "M1233.49 251.724 L2280.76 251.724 L2280.76 130.764 L1233.49 130.764  Z\n",
       "  \" fill=\"#ffffff\" fill-rule=\"evenodd\" fill-opacity=\"1\"/>\n",
       "<polyline clip-path=\"url(#clip630)\" style=\"stroke:#000000; stroke-width:4; stroke-opacity:1; fill:none\" points=\"\n",
       "  1233.49,251.724 2280.76,251.724 2280.76,130.764 1233.49,130.764 1233.49,251.724 \n",
       "  \"/>\n",
       "<polyline clip-path=\"url(#clip630)\" style=\"stroke:#e26f46; stroke-width:4; stroke-opacity:1; fill:none\" points=\"\n",
       "  1257.49,191.244 1401.49,191.244 \n",
       "  \"/>\n",
       "<path clip-path=\"url(#clip630)\" d=\"M 0 0 M1441.88 192.32 Q1443.39 192.83 1444.8 194.496 Q1446.23 196.163 1447.67 199.08 L1452.41 208.524 L1447.39 208.524 L1442.97 199.658 Q1441.26 196.186 1439.64 195.052 Q1438.04 193.918 1435.26 193.918 L1430.17 193.918 L1430.17 208.524 L1425.49 208.524 L1425.49 173.964 L1436.05 173.964 Q1441.97 173.964 1444.89 176.441 Q1447.81 178.918 1447.81 183.918 Q1447.81 187.182 1446.28 189.334 Q1444.77 191.487 1441.88 192.32 M1430.17 177.807 L1430.17 190.075 L1436.05 190.075 Q1439.43 190.075 1441.14 188.524 Q1442.88 186.95 1442.88 183.918 Q1442.88 180.885 1441.14 179.358 Q1439.43 177.807 1436.05 177.807 L1430.17 177.807 Z\" fill=\"#000000\" fill-rule=\"evenodd\" fill-opacity=\"1\" /><path clip-path=\"url(#clip630)\" d=\"M 0 0 M1457.07 173.964 L1461.74 173.964 L1461.74 188.131 L1478.73 188.131 L1478.73 173.964 L1483.41 173.964 L1483.41 208.524 L1478.73 208.524 L1478.73 192.066 L1461.74 192.066 L1461.74 208.524 L1457.07 208.524 L1457.07 173.964 Z\" fill=\"#000000\" fill-rule=\"evenodd\" fill-opacity=\"1\" /><path clip-path=\"url(#clip630)\" d=\"M 0 0 M1508.78 175.098 L1508.78 179.659 Q1506.12 178.385 1503.76 177.76 Q1501.39 177.135 1499.2 177.135 Q1495.38 177.135 1493.29 178.617 Q1491.23 180.098 1491.23 182.83 Q1491.23 185.121 1492.6 186.302 Q1493.99 187.459 1497.83 188.177 L1500.65 188.756 Q1505.88 189.751 1508.36 192.274 Q1510.86 194.774 1510.86 198.987 Q1510.86 204.01 1507.48 206.603 Q1504.13 209.195 1497.62 209.195 Q1495.17 209.195 1492.39 208.64 Q1489.63 208.084 1486.67 206.996 L1486.67 202.182 Q1489.52 203.779 1492.25 204.589 Q1494.98 205.399 1497.62 205.399 Q1501.63 205.399 1503.8 203.825 Q1505.98 202.251 1505.98 199.334 Q1505.98 196.788 1504.4 195.353 Q1502.85 193.918 1499.29 193.2 L1496.44 192.645 Q1491.21 191.603 1488.87 189.381 Q1486.53 187.158 1486.53 183.2 Q1486.53 178.617 1489.75 175.978 Q1492.99 173.339 1498.66 173.339 Q1501.09 173.339 1503.62 173.779 Q1506.14 174.219 1508.78 175.098 Z\" fill=\"#000000\" fill-rule=\"evenodd\" fill-opacity=\"1\" /><path clip-path=\"url(#clip630)\" d=\"M 0 0 M1530.95 186.996 L1560.63 186.996 L1560.63 190.885 L1530.95 190.885 L1530.95 186.996 M1530.95 196.441 L1560.63 196.441 L1560.63 200.376 L1530.95 200.376 L1530.95 196.441 Z\" fill=\"#000000\" fill-rule=\"evenodd\" fill-opacity=\"1\" /><path clip-path=\"url(#clip630)\" d=\"M 0 0 M1580.81 173.964 L1599.17 173.964 L1599.17 177.899 L1585.1 177.899 L1585.1 186.371 Q1586.12 186.024 1587.13 185.862 Q1588.15 185.677 1589.17 185.677 Q1594.96 185.677 1598.34 188.848 Q1601.72 192.02 1601.72 197.436 Q1601.72 203.015 1598.25 206.117 Q1594.77 209.195 1588.45 209.195 Q1586.28 209.195 1584.01 208.825 Q1581.76 208.455 1579.36 207.714 L1579.36 203.015 Q1581.44 204.149 1583.66 204.705 Q1585.88 205.26 1588.36 205.26 Q1592.37 205.26 1594.7 203.154 Q1597.04 201.047 1597.04 197.436 Q1597.04 193.825 1594.7 191.719 Q1592.37 189.612 1588.36 189.612 Q1586.49 189.612 1584.61 190.029 Q1582.76 190.445 1580.81 191.325 L1580.81 173.964 Z\" fill=\"#000000\" fill-rule=\"evenodd\" fill-opacity=\"1\" /><path clip-path=\"url(#clip630)\" d=\"M 0 0 M1606.79 202.644 L1611.67 202.644 L1611.67 208.524 L1606.79 208.524 L1606.79 202.644 Z\" fill=\"#000000\" fill-rule=\"evenodd\" fill-opacity=\"1\" /><path clip-path=\"url(#clip630)\" d=\"M 0 0 M1626.74 177.043 Q1623.13 177.043 1621.3 180.608 Q1619.5 184.149 1619.5 191.279 Q1619.5 198.385 1621.3 201.95 Q1623.13 205.492 1626.74 205.492 Q1630.37 205.492 1632.18 201.95 Q1634.01 198.385 1634.01 191.279 Q1634.01 184.149 1632.18 180.608 Q1630.37 177.043 1626.74 177.043 M1626.74 173.339 Q1632.55 173.339 1635.61 177.946 Q1638.69 182.529 1638.69 191.279 Q1638.69 200.006 1635.61 204.612 Q1632.55 209.195 1626.74 209.195 Q1620.93 209.195 1617.85 204.612 Q1614.8 200.006 1614.8 191.279 Q1614.8 182.529 1617.85 177.946 Q1620.93 173.339 1626.74 173.339 Z\" fill=\"#000000\" fill-rule=\"evenodd\" fill-opacity=\"1\" /><path clip-path=\"url(#clip630)\" d=\"M 0 0 M1644.24 202.644 L1649.12 202.644 L1649.12 206.626 L1645.33 214.033 L1642.34 214.033 L1644.24 206.626 L1644.24 202.644 Z\" fill=\"#000000\" fill-rule=\"evenodd\" fill-opacity=\"1\" /><path clip-path=\"url(#clip630)\" d=\"M 0 0 M1668.66 172.506 L1672.92 172.506 L1672.92 208.524 L1668.66 208.524 L1668.66 172.506 Z\" fill=\"#000000\" fill-rule=\"evenodd\" fill-opacity=\"1\" /><path clip-path=\"url(#clip630)\" d=\"M 0 0 M1687.43 185.584 Q1684.01 185.584 1682.02 188.27 Q1680.03 190.932 1680.03 195.584 Q1680.03 200.237 1681.99 202.922 Q1683.99 205.584 1687.43 205.584 Q1690.84 205.584 1692.83 202.899 Q1694.82 200.214 1694.82 195.584 Q1694.82 190.978 1692.83 188.293 Q1690.84 185.584 1687.43 185.584 M1687.43 181.973 Q1692.99 181.973 1696.16 185.584 Q1699.33 189.195 1699.33 195.584 Q1699.33 201.95 1696.16 205.584 Q1692.99 209.195 1687.43 209.195 Q1681.86 209.195 1678.68 205.584 Q1675.54 201.95 1675.54 195.584 Q1675.54 189.195 1678.68 185.584 Q1681.86 181.973 1687.43 181.973 Z\" fill=\"#000000\" fill-rule=\"evenodd\" fill-opacity=\"1\" /><path clip-path=\"url(#clip630)\" d=\"M 0 0 M1720.33 183.362 L1720.33 187.39 Q1718.52 186.464 1716.58 186.001 Q1714.63 185.538 1712.55 185.538 Q1709.38 185.538 1707.78 186.51 Q1706.21 187.483 1706.21 189.427 Q1706.21 190.908 1707.34 191.765 Q1708.48 192.598 1711.9 193.362 L1713.36 193.686 Q1717.9 194.658 1719.8 196.441 Q1721.72 198.2 1721.72 201.371 Q1721.72 204.982 1718.85 207.089 Q1716 209.195 1711 209.195 Q1708.92 209.195 1706.65 208.779 Q1704.4 208.385 1701.9 207.575 L1701.9 203.177 Q1704.26 204.404 1706.56 205.029 Q1708.85 205.631 1711.09 205.631 Q1714.1 205.631 1715.72 204.612 Q1717.34 203.57 1717.34 201.695 Q1717.34 199.959 1716.16 199.033 Q1715 198.107 1711.05 197.251 L1709.56 196.904 Q1705.61 196.07 1703.85 194.358 Q1702.09 192.621 1702.09 189.612 Q1702.09 185.955 1704.68 183.964 Q1707.27 181.973 1712.04 181.973 Q1714.4 181.973 1716.49 182.321 Q1718.57 182.668 1720.33 183.362 Z\" fill=\"#000000\" fill-rule=\"evenodd\" fill-opacity=\"1\" /><path clip-path=\"url(#clip630)\" d=\"M 0 0 M1742.71 183.362 L1742.71 187.39 Q1740.91 186.464 1738.96 186.001 Q1737.02 185.538 1734.93 185.538 Q1731.76 185.538 1730.17 186.51 Q1728.59 187.483 1728.59 189.427 Q1728.59 190.908 1729.73 191.765 Q1730.86 192.598 1734.29 193.362 L1735.74 193.686 Q1740.28 194.658 1742.18 196.441 Q1744.1 198.2 1744.1 201.371 Q1744.1 204.982 1741.23 207.089 Q1738.38 209.195 1733.38 209.195 Q1731.3 209.195 1729.03 208.779 Q1726.79 208.385 1724.29 207.575 L1724.29 203.177 Q1726.65 204.404 1728.94 205.029 Q1731.23 205.631 1733.48 205.631 Q1736.49 205.631 1738.11 204.612 Q1739.73 203.57 1739.73 201.695 Q1739.73 199.959 1738.55 199.033 Q1737.39 198.107 1733.43 197.251 L1731.95 196.904 Q1727.99 196.07 1726.23 194.358 Q1724.47 192.621 1724.47 189.612 Q1724.47 185.955 1727.06 183.964 Q1729.66 181.973 1734.43 181.973 Q1736.79 181.973 1738.87 182.321 Q1740.95 182.668 1742.71 183.362 Z\" fill=\"#000000\" fill-rule=\"evenodd\" fill-opacity=\"1\" /><path clip-path=\"url(#clip630)\" d=\"M 0 0 M1764.19 186.996 L1793.87 186.996 L1793.87 190.885 L1764.19 190.885 L1764.19 186.996 M1764.19 196.441 L1793.87 196.441 L1793.87 200.376 L1764.19 200.376 L1764.19 196.441 Z\" fill=\"#000000\" fill-rule=\"evenodd\" fill-opacity=\"1\" /><path clip-path=\"url(#clip630)\" d=\"M 0 0 M1814.82 204.589 L1822.46 204.589 L1822.46 178.223 L1814.15 179.89 L1814.15 175.631 L1822.41 173.964 L1827.09 173.964 L1827.09 204.589 L1834.73 204.589 L1834.73 208.524 L1814.82 208.524 L1814.82 204.589 Z\" fill=\"#000000\" fill-rule=\"evenodd\" fill-opacity=\"1\" /><path clip-path=\"url(#clip630)\" d=\"M 0 0 M1839.8 202.644 L1844.68 202.644 L1844.68 208.524 L1839.8 208.524 L1839.8 202.644 Z\" fill=\"#000000\" fill-rule=\"evenodd\" fill-opacity=\"1\" /><path clip-path=\"url(#clip630)\" d=\"M 0 0 M1849.89 207.807 L1849.89 203.547 Q1851.65 204.381 1853.45 204.82 Q1855.26 205.26 1856.99 205.26 Q1861.62 205.26 1864.05 202.158 Q1866.51 199.033 1866.86 192.691 Q1865.51 194.682 1863.45 195.746 Q1861.39 196.811 1858.89 196.811 Q1853.71 196.811 1850.67 193.686 Q1847.67 190.538 1847.67 185.098 Q1847.67 179.774 1850.81 176.557 Q1853.96 173.339 1859.19 173.339 Q1865.19 173.339 1868.34 177.946 Q1871.51 182.529 1871.51 191.279 Q1871.51 199.45 1867.62 204.334 Q1863.75 209.195 1857.2 209.195 Q1855.44 209.195 1853.64 208.848 Q1851.83 208.501 1849.89 207.807 M1859.19 193.154 Q1862.34 193.154 1864.17 191.001 Q1866.02 188.848 1866.02 185.098 Q1866.02 181.371 1864.17 179.219 Q1862.34 177.043 1859.19 177.043 Q1856.04 177.043 1854.19 179.219 Q1852.36 181.371 1852.36 185.098 Q1852.36 188.848 1854.19 191.001 Q1856.04 193.154 1859.19 193.154 Z\" fill=\"#000000\" fill-rule=\"evenodd\" fill-opacity=\"1\" /><path clip-path=\"url(#clip630)\" d=\"M 0 0 M1887.16 189.381 Q1884.01 189.381 1882.16 191.533 Q1880.33 193.686 1880.33 197.436 Q1880.33 201.163 1882.16 203.339 Q1884.01 205.492 1887.16 205.492 Q1890.3 205.492 1892.13 203.339 Q1893.98 201.163 1893.98 197.436 Q1893.98 193.686 1892.13 191.533 Q1890.3 189.381 1887.16 189.381 M1896.44 174.728 L1896.44 178.987 Q1894.68 178.154 1892.87 177.714 Q1891.09 177.274 1889.33 177.274 Q1884.7 177.274 1882.25 180.399 Q1879.82 183.524 1879.47 189.844 Q1880.84 187.83 1882.9 186.765 Q1884.96 185.677 1887.43 185.677 Q1892.64 185.677 1895.65 188.848 Q1898.68 191.996 1898.68 197.436 Q1898.68 202.76 1895.54 205.978 Q1892.39 209.195 1887.16 209.195 Q1881.16 209.195 1877.99 204.612 Q1874.82 200.006 1874.82 191.279 Q1874.82 183.084 1878.71 178.223 Q1882.6 173.339 1889.15 173.339 Q1890.91 173.339 1892.69 173.686 Q1894.49 174.034 1896.44 174.728 Z\" fill=\"#000000\" fill-rule=\"evenodd\" fill-opacity=\"1\" /><path clip-path=\"url(#clip630)\" d=\"M 0 0 M1904.24 202.644 L1909.12 202.644 L1909.12 206.626 L1905.33 214.033 L1902.34 214.033 L1904.24 206.626 L1904.24 202.644 Z\" fill=\"#000000\" fill-rule=\"evenodd\" fill-opacity=\"1\" /><path clip-path=\"url(#clip630)\" d=\"M 0 0 M1928.66 172.506 L1932.92 172.506 L1932.92 208.524 L1928.66 208.524 L1928.66 172.506 Z\" fill=\"#000000\" fill-rule=\"evenodd\" fill-opacity=\"1\" /><path clip-path=\"url(#clip630)\" d=\"M 0 0 M1949.17 195.492 Q1944.01 195.492 1942.02 196.672 Q1940.03 197.853 1940.03 200.7 Q1940.03 202.969 1941.51 204.311 Q1943.01 205.631 1945.58 205.631 Q1949.12 205.631 1951.25 203.131 Q1953.41 200.607 1953.41 196.441 L1953.41 195.492 L1949.17 195.492 M1957.66 193.733 L1957.66 208.524 L1953.41 208.524 L1953.41 204.589 Q1951.95 206.95 1949.77 208.084 Q1947.6 209.195 1944.45 209.195 Q1940.47 209.195 1938.1 206.973 Q1935.77 204.728 1935.77 200.978 Q1935.77 196.603 1938.68 194.381 Q1941.62 192.158 1947.43 192.158 L1953.41 192.158 L1953.41 191.742 Q1953.41 188.802 1951.46 187.205 Q1949.54 185.584 1946.04 185.584 Q1943.82 185.584 1941.72 186.117 Q1939.61 186.649 1937.66 187.714 L1937.66 183.779 Q1940 182.876 1942.2 182.436 Q1944.4 181.973 1946.48 181.973 Q1952.11 181.973 1954.89 184.89 Q1957.66 187.807 1957.66 193.733 Z\" fill=\"#000000\" fill-rule=\"evenodd\" fill-opacity=\"1\" /><path clip-path=\"url(#clip630)\" d=\"M 0 0 M1982.32 187.575 Q1983.91 184.705 1986.14 183.339 Q1988.36 181.973 1991.37 181.973 Q1995.42 181.973 1997.62 184.821 Q1999.82 187.645 1999.82 192.876 L1999.82 208.524 L1995.53 208.524 L1995.53 193.015 Q1995.53 189.288 1994.22 187.483 Q1992.9 185.677 1990.19 185.677 Q1986.88 185.677 1984.96 187.876 Q1983.04 190.075 1983.04 193.871 L1983.04 208.524 L1978.75 208.524 L1978.75 193.015 Q1978.75 189.265 1977.43 187.483 Q1976.11 185.677 1973.36 185.677 Q1970.1 185.677 1968.17 187.899 Q1966.25 190.098 1966.25 193.871 L1966.25 208.524 L1961.97 208.524 L1961.97 182.598 L1966.25 182.598 L1966.25 186.626 Q1967.71 184.242 1969.75 183.108 Q1971.79 181.973 1974.59 181.973 Q1977.41 181.973 1979.38 183.408 Q1981.37 184.844 1982.32 187.575 Z\" fill=\"#000000\" fill-rule=\"evenodd\" fill-opacity=\"1\" /><path clip-path=\"url(#clip630)\" d=\"M 0 0 M2022.9 195.584 Q2022.9 190.885 2020.95 188.223 Q2019.03 185.538 2015.65 185.538 Q2012.27 185.538 2010.33 188.223 Q2008.41 190.885 2008.41 195.584 Q2008.41 200.283 2010.33 202.969 Q2012.27 205.631 2015.65 205.631 Q2019.03 205.631 2020.95 202.969 Q2022.9 200.283 2022.9 195.584 M2008.41 186.533 Q2009.75 184.219 2011.78 183.108 Q2013.85 181.973 2016.69 181.973 Q2021.41 181.973 2024.35 185.723 Q2027.32 189.473 2027.32 195.584 Q2027.32 201.695 2024.35 205.445 Q2021.41 209.195 2016.69 209.195 Q2013.85 209.195 2011.78 208.084 Q2009.75 206.95 2008.41 204.635 L2008.41 208.524 L2004.12 208.524 L2004.12 172.506 L2008.41 172.506 L2008.41 186.533 Z\" fill=\"#000000\" fill-rule=\"evenodd\" fill-opacity=\"1\" /><path clip-path=\"url(#clip630)\" d=\"M 0 0 M2048.84 186.533 L2048.84 172.506 L2053.1 172.506 L2053.1 208.524 L2048.84 208.524 L2048.84 204.635 Q2047.5 206.95 2045.44 208.084 Q2043.41 209.195 2040.53 209.195 Q2035.84 209.195 2032.87 205.445 Q2029.93 201.695 2029.93 195.584 Q2029.93 189.473 2032.87 185.723 Q2035.84 181.973 2040.53 181.973 Q2043.41 181.973 2045.44 183.108 Q2047.5 184.219 2048.84 186.533 M2034.33 195.584 Q2034.33 200.283 2036.25 202.969 Q2038.2 205.631 2041.58 205.631 Q2044.96 205.631 2046.9 202.969 Q2048.84 200.283 2048.84 195.584 Q2048.84 190.885 2046.9 188.223 Q2044.96 185.538 2041.58 185.538 Q2038.2 185.538 2036.25 188.223 Q2034.33 190.885 2034.33 195.584 Z\" fill=\"#000000\" fill-rule=\"evenodd\" fill-opacity=\"1\" /><path clip-path=\"url(#clip630)\" d=\"M 0 0 M2069.35 195.492 Q2064.19 195.492 2062.2 196.672 Q2060.21 197.853 2060.21 200.7 Q2060.21 202.969 2061.69 204.311 Q2063.2 205.631 2065.77 205.631 Q2069.31 205.631 2071.44 203.131 Q2073.59 200.607 2073.59 196.441 L2073.59 195.492 L2069.35 195.492 M2077.85 193.733 L2077.85 208.524 L2073.59 208.524 L2073.59 204.589 Q2072.13 206.95 2069.96 208.084 Q2067.78 209.195 2064.63 209.195 Q2060.65 209.195 2058.29 206.973 Q2055.95 204.728 2055.95 200.978 Q2055.95 196.603 2058.87 194.381 Q2061.81 192.158 2067.62 192.158 L2073.59 192.158 L2073.59 191.742 Q2073.59 188.802 2071.65 187.205 Q2069.72 185.584 2066.23 185.584 Q2064.01 185.584 2061.9 186.117 Q2059.79 186.649 2057.85 187.714 L2057.85 183.779 Q2060.19 182.876 2062.39 182.436 Q2064.59 181.973 2066.67 181.973 Q2072.29 181.973 2075.07 184.89 Q2077.85 187.807 2077.85 193.733 Z\" fill=\"#000000\" fill-rule=\"evenodd\" fill-opacity=\"1\" /><path clip-path=\"url(#clip630)\" d=\"M 0 0 M2097.94 186.996 L2127.62 186.996 L2127.62 190.885 L2097.94 190.885 L2097.94 186.996 M2097.94 196.441 L2127.62 196.441 L2127.62 200.376 L2097.94 200.376 L2097.94 196.441 Z\" fill=\"#000000\" fill-rule=\"evenodd\" fill-opacity=\"1\" /><path clip-path=\"url(#clip630)\" d=\"M 0 0 M2148.57 204.589 L2156.21 204.589 L2156.21 178.223 L2147.9 179.89 L2147.9 175.631 L2156.16 173.964 L2160.83 173.964 L2160.83 204.589 L2168.47 204.589 L2168.47 208.524 L2148.57 208.524 L2148.57 204.589 Z\" fill=\"#000000\" fill-rule=\"evenodd\" fill-opacity=\"1\" /><path clip-path=\"url(#clip630)\" d=\"M 0 0 M2173.54 202.644 L2178.43 202.644 L2178.43 208.524 L2173.54 208.524 L2173.54 202.644 Z\" fill=\"#000000\" fill-rule=\"evenodd\" fill-opacity=\"1\" /><path clip-path=\"url(#clip630)\" d=\"M 0 0 M2196.34 178.038 L2184.54 196.487 L2196.34 196.487 L2196.34 178.038 M2195.12 173.964 L2201 173.964 L2201 196.487 L2205.93 196.487 L2205.93 200.376 L2201 200.376 L2201 208.524 L2196.34 208.524 L2196.34 200.376 L2180.74 200.376 L2180.74 195.862 L2195.12 173.964 Z\" fill=\"#000000\" fill-rule=\"evenodd\" fill-opacity=\"1\" /><path clip-path=\"url(#clip630)\" d=\"M 0 0 M2211.14 207.807 L2211.14 203.547 Q2212.89 204.381 2214.7 204.82 Q2216.51 205.26 2218.24 205.26 Q2222.87 205.26 2225.3 202.158 Q2227.76 199.033 2228.1 192.691 Q2226.76 194.682 2224.7 195.746 Q2222.64 196.811 2220.14 196.811 Q2214.96 196.811 2211.92 193.686 Q2208.91 190.538 2208.91 185.098 Q2208.91 179.774 2212.06 176.557 Q2215.21 173.339 2220.44 173.339 Q2226.44 173.339 2229.58 177.946 Q2232.76 182.529 2232.76 191.279 Q2232.76 199.45 2228.87 204.334 Q2225 209.195 2218.45 209.195 Q2216.69 209.195 2214.89 208.848 Q2213.08 208.501 2211.14 207.807 M2220.44 193.154 Q2223.59 193.154 2225.42 191.001 Q2227.27 188.848 2227.27 185.098 Q2227.27 181.371 2225.42 179.219 Q2223.59 177.043 2220.44 177.043 Q2217.29 177.043 2215.44 179.219 Q2213.61 181.371 2213.61 185.098 Q2213.61 188.848 2215.44 191.001 Q2217.29 193.154 2220.44 193.154 Z\" fill=\"#000000\" fill-rule=\"evenodd\" fill-opacity=\"1\" /></svg>\n"
      ]
     },
     "execution_count": 406,
     "metadata": {},
     "output_type": "execute_result"
    }
   ],
   "source": [
    "p = Plots.scatter(X[:,1], X[:,2], color = [yi > 0 ? :red : :blue for yi in y], label = \"\")\n",
    "Plots.yaxis!(p, (-2, 4.5))\n",
    "Plots.plot!(p, [0.0, 2.0], [-bv / wv[2], (-bv - 2wv[1])/wv[2]], label = \"RHS = $(penalty), loss = $(round(loss, digits=2)), lambda = $(round(λ, digits=2))\")"
   ]
  },
  {
   "cell_type": "code",
   "execution_count": 407,
   "metadata": {},
   "outputs": [
    {
     "data": {
      "text/plain": [
       "\u001b[32m\u001b[1mTest Passed\u001b[22m\u001b[39m"
      ]
     },
     "execution_count": 407,
     "metadata": {},
     "output_type": "execute_result"
    }
   ],
   "source": [
    "@test (wv'wv + bv*bv) ≈ penalty atol=1e-4  # sanity check"
   ]
  },
  {
   "cell_type": "markdown",
   "metadata": {},
   "source": [
    "## Part 2: Differentiate wrt each data point"
   ]
  },
  {
   "cell_type": "code",
   "execution_count": 408,
   "metadata": {},
   "outputs": [],
   "source": [
    "# x = model.primal_optimal\n",
    "# s = MOI.get(model, MOI.ConstraintPrimal(), model.con_idx)\n",
    "# dual = model.dual_optimal\n",
    "\n",
    "dA = zeros(2*(nobs+nfeat) + 1, nobs+nfeat+1+1)\n",
    "db = zeros(2*(nobs+nfeat) + 1)\n",
    "dc = zeros(nobs+nfeat+1+1); # c = sum(`l`) + 0'w + 0.b + 0.t\n",
    "\n",
    "# db[nobs+1] = 1.0   # only weighing the penalty constraint i.e. √penalty = t \n",
    "# dc[1] = 1.0\n",
    "\n",
    "# dx, dy, ds = backward_conic!(model, dA, db, dc)\n",
    "\n",
    "# dl, dw, db, dt = dx[1:50], dx[51:52], dx[53], dx[54]"
   ]
  },
  {
   "cell_type": "code",
   "execution_count": 409,
   "metadata": {},
   "outputs": [],
   "source": [
    "∇ = []\n",
    "\n",
    "# begin differentiating\n",
    "for Xi in 1:nobs\n",
    "    dA[nobs+5+Xi, nobs.+(1:2)] = ones(2) # set\n",
    "    \n",
    "    dx, dy, ds = backward_conic!(model, dA, db, dc)\n",
    "    push!(∇, norm(dx) + norm(dy))\n",
    "    \n",
    "    dA[nobs+5+Xi, nobs.+(1:2)] = zeros(2)  # reset\n",
    "end\n",
    "∇ = normalize(∇);"
   ]
  },
  {
   "cell_type": "code",
   "execution_count": 411,
   "metadata": {},
   "outputs": [
    {
     "data": {
      "image/svg+xml": [
       "<?xml version=\"1.0\" encoding=\"utf-8\"?>\n",
       "<svg xmlns=\"http://www.w3.org/2000/svg\" xmlns:xlink=\"http://www.w3.org/1999/xlink\" width=\"600\" height=\"400\" viewBox=\"0 0 2400 1600\">\n",
       "<defs>\n",
       "  <clipPath id=\"clip710\">\n",
       "    <rect x=\"0\" y=\"0\" width=\"2400\" height=\"1600\"/>\n",
       "  </clipPath>\n",
       "</defs>\n",
       "<path clip-path=\"url(#clip710)\" d=\"\n",
       "M0 1600 L2400 1600 L2400 0 L0 0  Z\n",
       "  \" fill=\"#ffffff\" fill-rule=\"evenodd\" fill-opacity=\"1\"/>\n",
       "<defs>\n",
       "  <clipPath id=\"clip711\">\n",
       "    <rect x=\"480\" y=\"0\" width=\"1681\" height=\"1600\"/>\n",
       "  </clipPath>\n",
       "</defs>\n",
       "<path clip-path=\"url(#clip710)\" d=\"\n",
       "M125.256 1486.45 L2352.76 1486.45 L2352.76 47.2441 L125.256 47.2441  Z\n",
       "  \" fill=\"#ffffff\" fill-rule=\"evenodd\" fill-opacity=\"1\"/>\n",
       "<defs>\n",
       "  <clipPath id=\"clip712\">\n",
       "    <rect x=\"125\" y=\"47\" width=\"2229\" height=\"1440\"/>\n",
       "  </clipPath>\n",
       "</defs>\n",
       "<polyline clip-path=\"url(#clip712)\" style=\"stroke:#000000; stroke-width:2; stroke-opacity:0.1; fill:none\" points=\"\n",
       "  659.522,1486.45 659.522,47.2441 \n",
       "  \"/>\n",
       "<polyline clip-path=\"url(#clip712)\" style=\"stroke:#000000; stroke-width:2; stroke-opacity:0.1; fill:none\" points=\"\n",
       "  1210.13,1486.45 1210.13,47.2441 \n",
       "  \"/>\n",
       "<polyline clip-path=\"url(#clip712)\" style=\"stroke:#000000; stroke-width:2; stroke-opacity:0.1; fill:none\" points=\"\n",
       "  1760.74,1486.45 1760.74,47.2441 \n",
       "  \"/>\n",
       "<polyline clip-path=\"url(#clip712)\" style=\"stroke:#000000; stroke-width:2; stroke-opacity:0.1; fill:none\" points=\"\n",
       "  2311.35,1486.45 2311.35,47.2441 \n",
       "  \"/>\n",
       "<polyline clip-path=\"url(#clip712)\" style=\"stroke:#000000; stroke-width:2; stroke-opacity:0.1; fill:none\" points=\"\n",
       "  125.256,1486.45 2352.76,1486.45 \n",
       "  \"/>\n",
       "<polyline clip-path=\"url(#clip712)\" style=\"stroke:#000000; stroke-width:2; stroke-opacity:0.1; fill:none\" points=\"\n",
       "  125.256,1265.03 2352.76,1265.03 \n",
       "  \"/>\n",
       "<polyline clip-path=\"url(#clip712)\" style=\"stroke:#000000; stroke-width:2; stroke-opacity:0.1; fill:none\" points=\"\n",
       "  125.256,1043.62 2352.76,1043.62 \n",
       "  \"/>\n",
       "<polyline clip-path=\"url(#clip712)\" style=\"stroke:#000000; stroke-width:2; stroke-opacity:0.1; fill:none\" points=\"\n",
       "  125.256,822.2 2352.76,822.2 \n",
       "  \"/>\n",
       "<polyline clip-path=\"url(#clip712)\" style=\"stroke:#000000; stroke-width:2; stroke-opacity:0.1; fill:none\" points=\"\n",
       "  125.256,600.784 2352.76,600.784 \n",
       "  \"/>\n",
       "<polyline clip-path=\"url(#clip712)\" style=\"stroke:#000000; stroke-width:2; stroke-opacity:0.1; fill:none\" points=\"\n",
       "  125.256,379.368 2352.76,379.368 \n",
       "  \"/>\n",
       "<polyline clip-path=\"url(#clip712)\" style=\"stroke:#000000; stroke-width:2; stroke-opacity:0.1; fill:none\" points=\"\n",
       "  125.256,157.952 2352.76,157.952 \n",
       "  \"/>\n",
       "<polyline clip-path=\"url(#clip710)\" style=\"stroke:#000000; stroke-width:4; stroke-opacity:1; fill:none\" points=\"\n",
       "  125.256,1486.45 2352.76,1486.45 \n",
       "  \"/>\n",
       "<polyline clip-path=\"url(#clip710)\" style=\"stroke:#000000; stroke-width:4; stroke-opacity:1; fill:none\" points=\"\n",
       "  125.256,1486.45 125.256,47.2441 \n",
       "  \"/>\n",
       "<polyline clip-path=\"url(#clip710)\" style=\"stroke:#000000; stroke-width:4; stroke-opacity:1; fill:none\" points=\"\n",
       "  659.522,1486.45 659.522,1469.18 \n",
       "  \"/>\n",
       "<polyline clip-path=\"url(#clip710)\" style=\"stroke:#000000; stroke-width:4; stroke-opacity:1; fill:none\" points=\"\n",
       "  1210.13,1486.45 1210.13,1469.18 \n",
       "  \"/>\n",
       "<polyline clip-path=\"url(#clip710)\" style=\"stroke:#000000; stroke-width:4; stroke-opacity:1; fill:none\" points=\"\n",
       "  1760.74,1486.45 1760.74,1469.18 \n",
       "  \"/>\n",
       "<polyline clip-path=\"url(#clip710)\" style=\"stroke:#000000; stroke-width:4; stroke-opacity:1; fill:none\" points=\"\n",
       "  2311.35,1486.45 2311.35,1469.18 \n",
       "  \"/>\n",
       "<polyline clip-path=\"url(#clip710)\" style=\"stroke:#000000; stroke-width:4; stroke-opacity:1; fill:none\" points=\"\n",
       "  125.256,1486.45 151.986,1486.45 \n",
       "  \"/>\n",
       "<polyline clip-path=\"url(#clip710)\" style=\"stroke:#000000; stroke-width:4; stroke-opacity:1; fill:none\" points=\"\n",
       "  125.256,1265.03 151.986,1265.03 \n",
       "  \"/>\n",
       "<polyline clip-path=\"url(#clip710)\" style=\"stroke:#000000; stroke-width:4; stroke-opacity:1; fill:none\" points=\"\n",
       "  125.256,1043.62 151.986,1043.62 \n",
       "  \"/>\n",
       "<polyline clip-path=\"url(#clip710)\" style=\"stroke:#000000; stroke-width:4; stroke-opacity:1; fill:none\" points=\"\n",
       "  125.256,822.2 151.986,822.2 \n",
       "  \"/>\n",
       "<polyline clip-path=\"url(#clip710)\" style=\"stroke:#000000; stroke-width:4; stroke-opacity:1; fill:none\" points=\"\n",
       "  125.256,600.784 151.986,600.784 \n",
       "  \"/>\n",
       "<polyline clip-path=\"url(#clip710)\" style=\"stroke:#000000; stroke-width:4; stroke-opacity:1; fill:none\" points=\"\n",
       "  125.256,379.368 151.986,379.368 \n",
       "  \"/>\n",
       "<polyline clip-path=\"url(#clip710)\" style=\"stroke:#000000; stroke-width:4; stroke-opacity:1; fill:none\" points=\"\n",
       "  125.256,157.952 151.986,157.952 \n",
       "  \"/>\n",
       "<path clip-path=\"url(#clip710)\" d=\"M 0 0 M659.522 1508.44 Q655.911 1508.44 654.082 1512 Q652.276 1515.55 652.276 1522.67 Q652.276 1529.78 654.082 1533.35 Q655.911 1536.89 659.522 1536.89 Q663.156 1536.89 664.962 1533.35 Q666.79 1529.78 666.79 1522.67 Q666.79 1515.55 664.962 1512 Q663.156 1508.44 659.522 1508.44 M659.522 1504.73 Q665.332 1504.73 668.388 1509.34 Q671.466 1513.92 671.466 1522.67 Q671.466 1531.4 668.388 1536.01 Q665.332 1540.59 659.522 1540.59 Q653.712 1540.59 650.633 1536.01 Q647.577 1531.4 647.577 1522.67 Q647.577 1513.92 650.633 1509.34 Q653.712 1504.73 659.522 1504.73 Z\" fill=\"#000000\" fill-rule=\"evenodd\" fill-opacity=\"1\" /><path clip-path=\"url(#clip710)\" d=\"M 0 0 M1204.78 1535.98 L1221.1 1535.98 L1221.1 1539.92 L1199.16 1539.92 L1199.16 1535.98 Q1201.82 1533.23 1206.4 1528.6 Q1211.01 1523.95 1212.19 1522.61 Q1214.44 1520.08 1215.31 1518.35 Q1216.22 1516.59 1216.22 1514.9 Q1216.22 1512.14 1214.27 1510.41 Q1212.35 1508.67 1209.25 1508.67 Q1207.05 1508.67 1204.6 1509.43 Q1202.17 1510.2 1199.39 1511.75 L1199.39 1507.03 Q1202.21 1505.89 1204.67 1505.31 Q1207.12 1504.73 1209.16 1504.73 Q1214.53 1504.73 1217.72 1507.42 Q1220.92 1510.11 1220.92 1514.6 Q1220.92 1516.73 1220.11 1518.65 Q1219.32 1520.54 1217.21 1523.14 Q1216.63 1523.81 1213.53 1527.03 Q1210.43 1530.22 1204.78 1535.98 Z\" fill=\"#000000\" fill-rule=\"evenodd\" fill-opacity=\"1\" /><path clip-path=\"url(#clip710)\" d=\"M 0 0 M1763.75 1509.43 L1751.94 1527.88 L1763.75 1527.88 L1763.75 1509.43 M1762.52 1505.36 L1768.4 1505.36 L1768.4 1527.88 L1773.33 1527.88 L1773.33 1531.77 L1768.4 1531.77 L1768.4 1539.92 L1763.75 1539.92 L1763.75 1531.77 L1748.14 1531.77 L1748.14 1527.26 L1762.52 1505.36 Z\" fill=\"#000000\" fill-rule=\"evenodd\" fill-opacity=\"1\" /><path clip-path=\"url(#clip710)\" d=\"M 0 0 M2311.75 1520.78 Q2308.6 1520.78 2306.75 1522.93 Q2304.92 1525.08 2304.92 1528.83 Q2304.92 1532.56 2306.75 1534.73 Q2308.6 1536.89 2311.75 1536.89 Q2314.9 1536.89 2316.73 1534.73 Q2318.58 1532.56 2318.58 1528.83 Q2318.58 1525.08 2316.73 1522.93 Q2314.9 1520.78 2311.75 1520.78 M2321.03 1506.12 L2321.03 1510.38 Q2319.27 1509.55 2317.47 1509.11 Q2315.69 1508.67 2313.93 1508.67 Q2309.3 1508.67 2306.84 1511.8 Q2304.41 1514.92 2304.07 1521.24 Q2305.43 1519.23 2307.49 1518.16 Q2309.55 1517.07 2312.03 1517.07 Q2317.24 1517.07 2320.25 1520.24 Q2323.28 1523.39 2323.28 1528.83 Q2323.28 1534.16 2320.13 1537.37 Q2316.98 1540.59 2311.75 1540.59 Q2305.75 1540.59 2302.58 1536.01 Q2299.41 1531.4 2299.41 1522.67 Q2299.41 1514.48 2303.3 1509.62 Q2307.19 1504.73 2313.74 1504.73 Q2315.5 1504.73 2317.28 1505.08 Q2319.09 1505.43 2321.03 1506.12 Z\" fill=\"#000000\" fill-rule=\"evenodd\" fill-opacity=\"1\" /><path clip-path=\"url(#clip710)\" d=\"M 0 0 M63.3625 1488.84 L75.8393 1488.84 L75.8393 1492.64 L63.3625 1492.64 L63.3625 1488.84 Z\" fill=\"#000000\" fill-rule=\"evenodd\" fill-opacity=\"1\" /><path clip-path=\"url(#clip710)\" d=\"M 0 0 M84.9365 1499.79 L101.256 1499.79 L101.256 1503.73 L79.3115 1503.73 L79.3115 1499.79 Q81.9735 1497.04 86.5568 1492.41 Q91.1633 1487.76 92.3438 1486.41 Q94.5892 1483.89 95.4688 1482.15 Q96.3716 1480.39 96.3716 1478.7 Q96.3716 1475.95 94.4271 1474.21 Q92.5059 1472.48 89.404 1472.48 Q87.205 1472.48 84.7513 1473.24 Q82.3207 1474.01 79.543 1475.56 L79.543 1470.83 Q82.367 1469.7 84.8207 1469.12 Q87.2744 1468.54 89.3114 1468.54 Q94.6818 1468.54 97.8762 1471.23 Q101.071 1473.91 101.071 1478.4 Q101.071 1480.53 100.26 1482.45 Q99.4734 1484.35 97.3669 1486.95 Q96.7882 1487.62 93.6864 1490.83 Q90.5846 1494.03 84.9365 1499.79 Z\" fill=\"#000000\" fill-rule=\"evenodd\" fill-opacity=\"1\" /><path clip-path=\"url(#clip710)\" d=\"M 0 0 M62.9921 1267.43 L75.4689 1267.43 L75.4689 1271.22 L62.9921 1271.22 L62.9921 1267.43 Z\" fill=\"#000000\" fill-rule=\"evenodd\" fill-opacity=\"1\" /><path clip-path=\"url(#clip710)\" d=\"M 0 0 M81.3485 1278.38 L88.9874 1278.38 L88.9874 1252.01 L80.6772 1253.68 L80.6772 1249.42 L88.9411 1247.75 L93.617 1247.75 L93.617 1278.38 L101.256 1278.38 L101.256 1282.31 L81.3485 1282.31 L81.3485 1278.38 Z\" fill=\"#000000\" fill-rule=\"evenodd\" fill-opacity=\"1\" /><path clip-path=\"url(#clip710)\" d=\"M 0 0 M89.3114 1029.41 Q85.7003 1029.41 83.8716 1032.98 Q82.0661 1036.52 82.0661 1043.65 Q82.0661 1050.76 83.8716 1054.32 Q85.7003 1057.86 89.3114 1057.86 Q92.9457 1057.86 94.7512 1054.32 Q96.5799 1050.76 96.5799 1043.65 Q96.5799 1036.52 94.7512 1032.98 Q92.9457 1029.41 89.3114 1029.41 M89.3114 1025.71 Q95.1216 1025.71 98.1771 1030.32 Q101.256 1034.9 101.256 1043.65 Q101.256 1052.38 98.1771 1056.98 Q95.1216 1061.57 89.3114 1061.57 Q83.5013 1061.57 80.4226 1056.98 Q77.367 1052.38 77.367 1043.65 Q77.367 1034.9 80.4226 1030.32 Q83.5013 1025.71 89.3114 1025.71 Z\" fill=\"#000000\" fill-rule=\"evenodd\" fill-opacity=\"1\" /><path clip-path=\"url(#clip710)\" d=\"M 0 0 M81.3485 835.545 L88.9874 835.545 L88.9874 809.179 L80.6772 810.846 L80.6772 806.587 L88.9411 804.92 L93.617 804.92 L93.617 835.545 L101.256 835.545 L101.256 839.48 L81.3485 839.48 L81.3485 835.545 Z\" fill=\"#000000\" fill-rule=\"evenodd\" fill-opacity=\"1\" /><path clip-path=\"url(#clip710)\" d=\"M 0 0 M84.9365 614.129 L101.256 614.129 L101.256 618.064 L79.3115 618.064 L79.3115 614.129 Q81.9735 611.374 86.5568 606.745 Q91.1633 602.092 92.3438 600.749 Q94.5892 598.226 95.4688 596.49 Q96.3716 594.731 96.3716 593.041 Q96.3716 590.286 94.4271 588.55 Q92.5059 586.814 89.404 586.814 Q87.205 586.814 84.7513 587.578 Q82.3207 588.342 79.543 589.893 L79.543 585.171 Q82.367 584.036 84.8207 583.458 Q87.2744 582.879 89.3114 582.879 Q94.6818 582.879 97.8762 585.564 Q101.071 588.249 101.071 592.74 Q101.071 594.87 100.26 596.791 Q99.4734 598.689 97.3669 601.282 Q96.7882 601.953 93.6864 605.171 Q90.5846 608.365 84.9365 614.129 Z\" fill=\"#000000\" fill-rule=\"evenodd\" fill-opacity=\"1\" /><path clip-path=\"url(#clip710)\" d=\"M 0 0 M94.1262 378.014 Q97.4827 378.731 99.3577 381 Q101.256 383.268 101.256 386.602 Q101.256 391.718 97.7373 394.518 Q94.2188 397.319 87.7374 397.319 Q85.5614 397.319 83.2466 396.88 Q80.955 396.463 78.5013 395.606 L78.5013 391.093 Q80.4457 392.227 82.7605 392.805 Q85.0753 393.384 87.5985 393.384 Q91.9966 393.384 94.2883 391.648 Q96.6031 389.912 96.6031 386.602 Q96.6031 383.546 94.4503 381.833 Q92.3207 380.097 88.5012 380.097 L84.4735 380.097 L84.4735 376.255 L88.6864 376.255 Q92.1355 376.255 93.9642 374.889 Q95.7929 373.5 95.7929 370.907 Q95.7929 368.245 93.8947 366.833 Q92.0197 365.398 88.5012 365.398 Q86.58 365.398 84.3809 365.815 Q82.1818 366.232 79.543 367.111 L79.543 362.945 Q82.205 362.204 84.5198 361.833 Q86.8577 361.463 88.9179 361.463 Q94.242 361.463 97.3438 363.894 Q100.446 366.301 100.446 370.421 Q100.446 373.292 98.8021 375.282 Q97.1586 377.25 94.1262 378.014 Z\" fill=\"#000000\" fill-rule=\"evenodd\" fill-opacity=\"1\" /><path clip-path=\"url(#clip710)\" d=\"M 0 0 M91.6725 144.746 L79.867 163.195 L91.6725 163.195 L91.6725 144.746 M90.4457 140.672 L96.3253 140.672 L96.3253 163.195 L101.256 163.195 L101.256 167.084 L96.3253 167.084 L96.3253 175.232 L91.6725 175.232 L91.6725 167.084 L76.0708 167.084 L76.0708 162.57 L90.4457 140.672 Z\" fill=\"#000000\" fill-rule=\"evenodd\" fill-opacity=\"1\" /><circle clip-path=\"url(#clip712)\" cx=\"1253.23\" cy=\"1188.43\" r=\"58\" fill=\"#ff0000\" fill-rule=\"evenodd\" fill-opacity=\"1\" stroke=\"#000000\" stroke-opacity=\"1\" stroke-width=\"3.2\"/>\n",
       "<circle clip-path=\"url(#clip712)\" style=\"fill:#ff0000; stroke:none; fill-opacity:1\" cx=\"188.298\" cy=\"1033.58\" r=\"2\"/>\n",
       "<circle clip-path=\"url(#clip712)\" cx=\"587.518\" cy=\"1454.74\" r=\"9\" fill=\"#ff0000\" fill-rule=\"evenodd\" fill-opacity=\"1\" stroke=\"#000000\" stroke-opacity=\"1\" stroke-width=\"3.2\"/>\n",
       "<circle clip-path=\"url(#clip712)\" style=\"fill:#ff0000; stroke:none; fill-opacity:1\" cx=\"363.158\" cy=\"1010.91\" r=\"2\"/>\n",
       "<circle clip-path=\"url(#clip712)\" style=\"fill:#ff0000; stroke:none; fill-opacity:1\" cx=\"634.753\" cy=\"741.644\" r=\"2\"/>\n",
       "<circle clip-path=\"url(#clip712)\" style=\"fill:#ff0000; stroke:none; fill-opacity:1\" cx=\"439.085\" cy=\"965.346\" r=\"2\"/>\n",
       "<circle clip-path=\"url(#clip712)\" style=\"fill:#ff0000; stroke:none; fill-opacity:1\" cx=\"827.233\" cy=\"939.14\" r=\"2\"/>\n",
       "<circle clip-path=\"url(#clip712)\" cx=\"963.188\" cy=\"749.138\" r=\"27\" fill=\"#ff0000\" fill-rule=\"evenodd\" fill-opacity=\"1\" stroke=\"#000000\" stroke-opacity=\"1\" stroke-width=\"3.2\"/>\n",
       "<circle clip-path=\"url(#clip712)\" style=\"fill:#ff0000; stroke:none; fill-opacity:1\" cx=\"387.863\" cy=\"1205.07\" r=\"2\"/>\n",
       "<circle clip-path=\"url(#clip712)\" style=\"fill:#ff0000; stroke:none; fill-opacity:1\" cx=\"570.784\" cy=\"1146.75\" r=\"2\"/>\n",
       "<circle clip-path=\"url(#clip712)\" style=\"fill:#ff0000; stroke:none; fill-opacity:1\" cx=\"951.813\" cy=\"1105.73\" r=\"2\"/>\n",
       "<circle clip-path=\"url(#clip712)\" style=\"fill:#ff0000; stroke:none; fill-opacity:1\" cx=\"514.155\" cy=\"1309.68\" r=\"2\"/>\n",
       "<circle clip-path=\"url(#clip712)\" style=\"fill:#ff0000; stroke:none; fill-opacity:1\" cx=\"757.269\" cy=\"1458.01\" r=\"2\"/>\n",
       "<circle clip-path=\"url(#clip712)\" style=\"fill:#ff0000; stroke:none; fill-opacity:1\" cx=\"929.372\" cy=\"1225.9\" r=\"2\"/>\n",
       "<circle clip-path=\"url(#clip712)\" style=\"fill:#ff0000; stroke:none; fill-opacity:1\" cx=\"661.033\" cy=\"1320.32\" r=\"2\"/>\n",
       "<circle clip-path=\"url(#clip712)\" style=\"fill:#ff0000; stroke:none; fill-opacity:1\" cx=\"193.032\" cy=\"1151.52\" r=\"2\"/>\n",
       "<circle clip-path=\"url(#clip712)\" style=\"fill:#ff0000; stroke:none; fill-opacity:1\" cx=\"455.264\" cy=\"1145.3\" r=\"2\"/>\n",
       "<circle clip-path=\"url(#clip712)\" style=\"fill:#ff0000; stroke:none; fill-opacity:1\" cx=\"372.131\" cy=\"1260.83\" r=\"2\"/>\n",
       "<circle clip-path=\"url(#clip712)\" style=\"fill:#ff0000; stroke:none; fill-opacity:1\" cx=\"362.162\" cy=\"1462.81\" r=\"2\"/>\n",
       "<circle clip-path=\"url(#clip712)\" style=\"fill:#ff0000; stroke:none; fill-opacity:1\" cx=\"423.919\" cy=\"1087.29\" r=\"2\"/>\n",
       "<circle clip-path=\"url(#clip712)\" style=\"fill:#ff0000; stroke:none; fill-opacity:1\" cx=\"350.634\" cy=\"1100.14\" r=\"2\"/>\n",
       "<circle clip-path=\"url(#clip712)\" style=\"fill:#ff0000; stroke:none; fill-opacity:1\" cx=\"742.835\" cy=\"928.538\" r=\"2\"/>\n",
       "<circle clip-path=\"url(#clip712)\" cx=\"1023.95\" cy=\"1167.33\" r=\"34\" fill=\"#ff0000\" fill-rule=\"evenodd\" fill-opacity=\"1\" stroke=\"#000000\" stroke-opacity=\"1\" stroke-width=\"3.2\"/>\n",
       "<circle clip-path=\"url(#clip712)\" cx=\"619.209\" cy=\"623.109\" r=\"32\" fill=\"#ff0000\" fill-rule=\"evenodd\" fill-opacity=\"1\" stroke=\"#000000\" stroke-opacity=\"1\" stroke-width=\"3.2\"/>\n",
       "<circle clip-path=\"url(#clip712)\" style=\"fill:#ff0000; stroke:none; fill-opacity:1\" cx=\"649.997\" cy=\"935.851\" r=\"2\"/>\n",
       "<circle clip-path=\"url(#clip712)\" style=\"fill:#ff0000; stroke:none; fill-opacity:1\" cx=\"552.889\" cy=\"1124.46\" r=\"2\"/>\n",
       "<circle clip-path=\"url(#clip712)\" style=\"fill:#ff0000; stroke:none; fill-opacity:1\" cx=\"350.392\" cy=\"717.14\" r=\"2\"/>\n",
       "<circle clip-path=\"url(#clip712)\" style=\"fill:#ff0000; stroke:none; fill-opacity:1\" cx=\"951.693\" cy=\"1283.07\" r=\"2\"/>\n",
       "<circle clip-path=\"url(#clip712)\" style=\"fill:#0000ff; stroke:none; fill-opacity:1\" cx=\"1632.14\" cy=\"857.935\" r=\"2\"/>\n",
       "<circle clip-path=\"url(#clip712)\" style=\"fill:#0000ff; stroke:none; fill-opacity:1\" cx=\"1618.31\" cy=\"584.393\" r=\"2\"/>\n",
       "<circle clip-path=\"url(#clip712)\" style=\"fill:#0000ff; stroke:none; fill-opacity:1\" cx=\"1714.42\" cy=\"509.524\" r=\"2\"/>\n",
       "<circle clip-path=\"url(#clip712)\" style=\"fill:#0000ff; stroke:none; fill-opacity:1\" cx=\"1680.31\" cy=\"1211.89\" r=\"2\"/>\n",
       "<circle clip-path=\"url(#clip712)\" style=\"fill:#0000ff; stroke:none; fill-opacity:1\" cx=\"2070.65\" cy=\"571.803\" r=\"2\"/>\n",
       "<circle clip-path=\"url(#clip712)\" style=\"fill:#0000ff; stroke:none; fill-opacity:1\" cx=\"1498.82\" cy=\"769.325\" r=\"2\"/>\n",
       "<circle clip-path=\"url(#clip712)\" style=\"fill:#0000ff; stroke:none; fill-opacity:1\" cx=\"2134.65\" cy=\"722.742\" r=\"2\"/>\n",
       "<circle clip-path=\"url(#clip712)\" cx=\"2105.7\" cy=\"1167.83\" r=\"9\" fill=\"#0000ff\" fill-rule=\"evenodd\" fill-opacity=\"1\" stroke=\"#000000\" stroke-opacity=\"1\" stroke-width=\"3.2\"/>\n",
       "<circle clip-path=\"url(#clip712)\" style=\"fill:#0000ff; stroke:none; fill-opacity:1\" cx=\"2062.16\" cy=\"614.203\" r=\"2\"/>\n",
       "<circle clip-path=\"url(#clip712)\" style=\"fill:#0000ff; stroke:none; fill-opacity:1\" cx=\"1724.4\" cy=\"826.675\" r=\"2\"/>\n",
       "<circle clip-path=\"url(#clip712)\" style=\"fill:#0000ff; stroke:none; fill-opacity:1\" cx=\"1519.57\" cy=\"724.915\" r=\"2\"/>\n",
       "<circle clip-path=\"url(#clip712)\" style=\"fill:#0000ff; stroke:none; fill-opacity:1\" cx=\"1701.71\" cy=\"849.735\" r=\"2\"/>\n",
       "<circle clip-path=\"url(#clip712)\" cx=\"1297.55\" cy=\"843.952\" r=\"34\" fill=\"#0000ff\" fill-rule=\"evenodd\" fill-opacity=\"1\" stroke=\"#000000\" stroke-opacity=\"1\" stroke-width=\"3.2\"/>\n",
       "<circle clip-path=\"url(#clip712)\" style=\"fill:#0000ff; stroke:none; fill-opacity:1\" cx=\"1743.61\" cy=\"770.515\" r=\"2\"/>\n",
       "<circle clip-path=\"url(#clip712)\" style=\"fill:#0000ff; stroke:none; fill-opacity:1\" cx=\"1720.4\" cy=\"347.408\" r=\"2\"/>\n",
       "<circle clip-path=\"url(#clip712)\" style=\"fill:#0000ff; stroke:none; fill-opacity:1\" cx=\"1645.88\" cy=\"1000.71\" r=\"2\"/>\n",
       "<circle clip-path=\"url(#clip712)\" style=\"fill:#0000ff; stroke:none; fill-opacity:1\" cx=\"1660.01\" cy=\"618.162\" r=\"2\"/>\n",
       "<circle clip-path=\"url(#clip712)\" cx=\"1293.95\" cy=\"805.82\" r=\"17\" fill=\"#0000ff\" fill-rule=\"evenodd\" fill-opacity=\"1\" stroke=\"#000000\" stroke-opacity=\"1\" stroke-width=\"3.2\"/>\n",
       "<circle clip-path=\"url(#clip712)\" style=\"fill:#0000ff; stroke:none; fill-opacity:1\" cx=\"1461.38\" cy=\"688.914\" r=\"2\"/>\n",
       "<circle clip-path=\"url(#clip712)\" style=\"fill:#0000ff; stroke:none; fill-opacity:1\" cx=\"1417.13\" cy=\"298.579\" r=\"2\"/>\n",
       "<circle clip-path=\"url(#clip712)\" style=\"fill:#0000ff; stroke:none; fill-opacity:1\" cx=\"1484.95\" cy=\"829.046\" r=\"2\"/>\n",
       "<circle clip-path=\"url(#clip712)\" style=\"fill:#0000ff; stroke:none; fill-opacity:1\" cx=\"1801.48\" cy=\"433.672\" r=\"2\"/>\n",
       "<circle clip-path=\"url(#clip712)\" style=\"fill:#0000ff; stroke:none; fill-opacity:1\" cx=\"2289.71\" cy=\"800.123\" r=\"2\"/>\n",
       "<circle clip-path=\"url(#clip712)\" style=\"fill:#0000ff; stroke:none; fill-opacity:1\" cx=\"1929.45\" cy=\"692.046\" r=\"2\"/>\n",
       "<circle clip-path=\"url(#clip712)\" style=\"fill:#0000ff; stroke:none; fill-opacity:1\" cx=\"2095.9\" cy=\"922.62\" r=\"2\"/>\n",
       "<circle clip-path=\"url(#clip712)\" cx=\"1482.87\" cy=\"483.306\" r=\"6\" fill=\"#0000ff\" fill-rule=\"evenodd\" fill-opacity=\"1\" stroke=\"#000000\" stroke-opacity=\"1\" stroke-width=\"3.2\"/>\n",
       "<circle clip-path=\"url(#clip712)\" cx=\"1883.87\" cy=\"439.084\" r=\"6\" fill=\"#0000ff\" fill-rule=\"evenodd\" fill-opacity=\"1\" stroke=\"#000000\" stroke-opacity=\"1\" stroke-width=\"3.2\"/>\n",
       "<circle clip-path=\"url(#clip712)\" style=\"fill:#0000ff; stroke:none; fill-opacity:1\" cx=\"1958.19\" cy=\"673.676\" r=\"2\"/>\n",
       "<circle clip-path=\"url(#clip712)\" style=\"fill:#0000ff; stroke:none; fill-opacity:1\" cx=\"1798.04\" cy=\"870.583\" r=\"2\"/>\n",
       "<circle clip-path=\"url(#clip712)\" style=\"fill:#0000ff; stroke:none; fill-opacity:1\" cx=\"2043.93\" cy=\"575.177\" r=\"2\"/>\n",
       "<polyline clip-path=\"url(#clip712)\" style=\"stroke:#e26f46; stroke-width:4; stroke-opacity:1; fill:none\" points=\"\n",
       "  934.826,288.343 1210.13,1028.69 \n",
       "  \"/>\n",
       "<path clip-path=\"url(#clip710)\" d=\"\n",
       "M1165.44 251.724 L2280.76 251.724 L2280.76 130.764 L1165.44 130.764  Z\n",
       "  \" fill=\"#ffffff\" fill-rule=\"evenodd\" fill-opacity=\"1\"/>\n",
       "<polyline clip-path=\"url(#clip710)\" style=\"stroke:#000000; stroke-width:4; stroke-opacity:1; fill:none\" points=\"\n",
       "  1165.44,251.724 2280.76,251.724 2280.76,130.764 1165.44,130.764 1165.44,251.724 \n",
       "  \"/>\n",
       "<polyline clip-path=\"url(#clip710)\" style=\"stroke:#e26f46; stroke-width:4; stroke-opacity:1; fill:none\" points=\"\n",
       "  1189.44,191.244 1333.44,191.244 \n",
       "  \"/>\n",
       "<path clip-path=\"url(#clip710)\" d=\"M 0 0 M1361.72 204.635 L1361.72 218.385 L1357.44 218.385 L1357.44 182.598 L1361.72 182.598 L1361.72 186.533 Q1363.06 184.219 1365.1 183.108 Q1367.16 181.973 1370.01 181.973 Q1374.73 181.973 1377.67 185.723 Q1380.63 189.473 1380.63 195.584 Q1380.63 201.695 1377.67 205.445 Q1374.73 209.195 1370.01 209.195 Q1367.16 209.195 1365.1 208.084 Q1363.06 206.95 1361.72 204.635 M1376.21 195.584 Q1376.21 190.885 1374.27 188.223 Q1372.34 185.538 1368.96 185.538 Q1365.58 185.538 1363.64 188.223 Q1361.72 190.885 1361.72 195.584 Q1361.72 200.283 1363.64 202.969 Q1365.58 205.631 1368.96 205.631 Q1372.34 205.631 1374.27 202.969 Q1376.21 200.283 1376.21 195.584 Z\" fill=\"#000000\" fill-rule=\"evenodd\" fill-opacity=\"1\" /><path clip-path=\"url(#clip710)\" d=\"M 0 0 M1407.27 194.496 L1407.27 196.58 L1387.69 196.58 Q1387.97 200.978 1390.33 203.293 Q1392.71 205.584 1396.95 205.584 Q1399.4 205.584 1401.7 204.982 Q1404.01 204.381 1406.28 203.177 L1406.28 207.205 Q1403.99 208.177 1401.58 208.686 Q1399.17 209.195 1396.7 209.195 Q1390.49 209.195 1386.86 205.584 Q1383.25 201.973 1383.25 195.816 Q1383.25 189.45 1386.67 185.723 Q1390.12 181.973 1395.95 181.973 Q1401.19 181.973 1404.22 185.353 Q1407.27 188.709 1407.27 194.496 M1403.01 193.246 Q1402.97 189.751 1401.05 187.668 Q1399.15 185.584 1396 185.584 Q1392.44 185.584 1390.28 187.598 Q1388.15 189.612 1387.83 193.27 L1403.01 193.246 Z\" fill=\"#000000\" fill-rule=\"evenodd\" fill-opacity=\"1\" /><path clip-path=\"url(#clip710)\" d=\"M 0 0 M1433.29 192.876 L1433.29 208.524 L1429.03 208.524 L1429.03 193.015 Q1429.03 189.334 1427.6 187.506 Q1426.16 185.677 1423.29 185.677 Q1419.84 185.677 1417.85 187.876 Q1415.86 190.075 1415.86 193.871 L1415.86 208.524 L1411.58 208.524 L1411.58 182.598 L1415.86 182.598 L1415.86 186.626 Q1417.39 184.288 1419.45 183.131 Q1421.53 181.973 1424.24 181.973 Q1428.71 181.973 1431 184.751 Q1433.29 187.506 1433.29 192.876 Z\" fill=\"#000000\" fill-rule=\"evenodd\" fill-opacity=\"1\" /><path clip-path=\"url(#clip710)\" d=\"M 0 0 M1449.54 195.492 Q1444.38 195.492 1442.39 196.672 Q1440.4 197.853 1440.4 200.7 Q1440.4 202.969 1441.88 204.311 Q1443.39 205.631 1445.95 205.631 Q1449.5 205.631 1451.63 203.131 Q1453.78 200.607 1453.78 196.441 L1453.78 195.492 L1449.54 195.492 M1458.04 193.733 L1458.04 208.524 L1453.78 208.524 L1453.78 204.589 Q1452.32 206.95 1450.14 208.084 Q1447.97 209.195 1444.82 209.195 Q1440.84 209.195 1438.48 206.973 Q1436.14 204.728 1436.14 200.978 Q1436.14 196.603 1439.06 194.381 Q1442 192.158 1447.81 192.158 L1453.78 192.158 L1453.78 191.742 Q1453.78 188.802 1451.83 187.205 Q1449.91 185.584 1446.42 185.584 Q1444.2 185.584 1442.09 186.117 Q1439.98 186.649 1438.04 187.714 L1438.04 183.779 Q1440.38 182.876 1442.57 182.436 Q1444.77 181.973 1446.86 181.973 Q1452.48 181.973 1455.26 184.89 Q1458.04 187.807 1458.04 193.733 Z\" fill=\"#000000\" fill-rule=\"evenodd\" fill-opacity=\"1\" /><path clip-path=\"url(#clip710)\" d=\"M 0 0 M1462.51 172.506 L1466.76 172.506 L1466.76 208.524 L1462.51 208.524 L1462.51 172.506 Z\" fill=\"#000000\" fill-rule=\"evenodd\" fill-opacity=\"1\" /><path clip-path=\"url(#clip710)\" d=\"M 0 0 M1475.45 175.237 L1475.45 182.598 L1484.22 182.598 L1484.22 185.908 L1475.45 185.908 L1475.45 199.982 Q1475.45 203.154 1476.3 204.057 Q1477.18 204.959 1479.84 204.959 L1484.22 204.959 L1484.22 208.524 L1479.84 208.524 Q1474.91 208.524 1473.04 206.695 Q1471.16 204.844 1471.16 199.982 L1471.16 185.908 L1468.04 185.908 L1468.04 182.598 L1471.16 182.598 L1471.16 175.237 L1475.45 175.237 Z\" fill=\"#000000\" fill-rule=\"evenodd\" fill-opacity=\"1\" /><path clip-path=\"url(#clip710)\" d=\"M 0 0 M1499.47 210.931 Q1497.67 215.561 1495.95 216.973 Q1494.24 218.385 1491.37 218.385 L1487.97 218.385 L1487.97 214.82 L1490.47 214.82 Q1492.23 214.82 1493.2 213.987 Q1494.17 213.154 1495.35 210.052 L1496.12 208.107 L1485.63 182.598 L1490.14 182.598 L1498.25 202.876 L1506.35 182.598 L1510.86 182.598 L1499.47 210.931 Z\" fill=\"#000000\" fill-rule=\"evenodd\" fill-opacity=\"1\" /><path clip-path=\"url(#clip710)\" d=\"M 0 0 M1530.95 186.996 L1560.63 186.996 L1560.63 190.885 L1530.95 190.885 L1530.95 186.996 M1530.95 196.441 L1560.63 196.441 L1560.63 200.376 L1530.95 200.376 L1530.95 196.441 Z\" fill=\"#000000\" fill-rule=\"evenodd\" fill-opacity=\"1\" /><path clip-path=\"url(#clip710)\" d=\"M 0 0 M1580.81 173.964 L1599.17 173.964 L1599.17 177.899 L1585.1 177.899 L1585.1 186.371 Q1586.12 186.024 1587.13 185.862 Q1588.15 185.677 1589.17 185.677 Q1594.96 185.677 1598.34 188.848 Q1601.72 192.02 1601.72 197.436 Q1601.72 203.015 1598.25 206.117 Q1594.77 209.195 1588.45 209.195 Q1586.28 209.195 1584.01 208.825 Q1581.76 208.455 1579.36 207.714 L1579.36 203.015 Q1581.44 204.149 1583.66 204.705 Q1585.88 205.26 1588.36 205.26 Q1592.37 205.26 1594.7 203.154 Q1597.04 201.047 1597.04 197.436 Q1597.04 193.825 1594.7 191.719 Q1592.37 189.612 1588.36 189.612 Q1586.49 189.612 1584.61 190.029 Q1582.76 190.445 1580.81 191.325 L1580.81 173.964 Z\" fill=\"#000000\" fill-rule=\"evenodd\" fill-opacity=\"1\" /><path clip-path=\"url(#clip710)\" d=\"M 0 0 M1606.79 202.644 L1611.67 202.644 L1611.67 208.524 L1606.79 208.524 L1606.79 202.644 Z\" fill=\"#000000\" fill-rule=\"evenodd\" fill-opacity=\"1\" /><path clip-path=\"url(#clip710)\" d=\"M 0 0 M1626.74 177.043 Q1623.13 177.043 1621.3 180.608 Q1619.5 184.149 1619.5 191.279 Q1619.5 198.385 1621.3 201.95 Q1623.13 205.492 1626.74 205.492 Q1630.37 205.492 1632.18 201.95 Q1634.01 198.385 1634.01 191.279 Q1634.01 184.149 1632.18 180.608 Q1630.37 177.043 1626.74 177.043 M1626.74 173.339 Q1632.55 173.339 1635.61 177.946 Q1638.69 182.529 1638.69 191.279 Q1638.69 200.006 1635.61 204.612 Q1632.55 209.195 1626.74 209.195 Q1620.93 209.195 1617.85 204.612 Q1614.8 200.006 1614.8 191.279 Q1614.8 182.529 1617.85 177.946 Q1620.93 173.339 1626.74 173.339 Z\" fill=\"#000000\" fill-rule=\"evenodd\" fill-opacity=\"1\" /><path clip-path=\"url(#clip710)\" d=\"M 0 0 M1644.24 202.644 L1649.12 202.644 L1649.12 206.626 L1645.33 214.033 L1642.34 214.033 L1644.24 206.626 L1644.24 202.644 Z\" fill=\"#000000\" fill-rule=\"evenodd\" fill-opacity=\"1\" /><path clip-path=\"url(#clip710)\" d=\"M 0 0 M1668.66 172.506 L1672.92 172.506 L1672.92 208.524 L1668.66 208.524 L1668.66 172.506 Z\" fill=\"#000000\" fill-rule=\"evenodd\" fill-opacity=\"1\" /><path clip-path=\"url(#clip710)\" d=\"M 0 0 M1687.43 185.584 Q1684.01 185.584 1682.02 188.27 Q1680.03 190.932 1680.03 195.584 Q1680.03 200.237 1681.99 202.922 Q1683.99 205.584 1687.43 205.584 Q1690.84 205.584 1692.83 202.899 Q1694.82 200.214 1694.82 195.584 Q1694.82 190.978 1692.83 188.293 Q1690.84 185.584 1687.43 185.584 M1687.43 181.973 Q1692.99 181.973 1696.16 185.584 Q1699.33 189.195 1699.33 195.584 Q1699.33 201.95 1696.16 205.584 Q1692.99 209.195 1687.43 209.195 Q1681.86 209.195 1678.68 205.584 Q1675.54 201.95 1675.54 195.584 Q1675.54 189.195 1678.68 185.584 Q1681.86 181.973 1687.43 181.973 Z\" fill=\"#000000\" fill-rule=\"evenodd\" fill-opacity=\"1\" /><path clip-path=\"url(#clip710)\" d=\"M 0 0 M1720.33 183.362 L1720.33 187.39 Q1718.52 186.464 1716.58 186.001 Q1714.63 185.538 1712.55 185.538 Q1709.38 185.538 1707.78 186.51 Q1706.21 187.483 1706.21 189.427 Q1706.21 190.908 1707.34 191.765 Q1708.48 192.598 1711.9 193.362 L1713.36 193.686 Q1717.9 194.658 1719.8 196.441 Q1721.72 198.2 1721.72 201.371 Q1721.72 204.982 1718.85 207.089 Q1716 209.195 1711 209.195 Q1708.92 209.195 1706.65 208.779 Q1704.4 208.385 1701.9 207.575 L1701.9 203.177 Q1704.26 204.404 1706.56 205.029 Q1708.85 205.631 1711.09 205.631 Q1714.1 205.631 1715.72 204.612 Q1717.34 203.57 1717.34 201.695 Q1717.34 199.959 1716.16 199.033 Q1715 198.107 1711.05 197.251 L1709.56 196.904 Q1705.61 196.07 1703.85 194.358 Q1702.09 192.621 1702.09 189.612 Q1702.09 185.955 1704.68 183.964 Q1707.27 181.973 1712.04 181.973 Q1714.4 181.973 1716.49 182.321 Q1718.57 182.668 1720.33 183.362 Z\" fill=\"#000000\" fill-rule=\"evenodd\" fill-opacity=\"1\" /><path clip-path=\"url(#clip710)\" d=\"M 0 0 M1742.71 183.362 L1742.71 187.39 Q1740.91 186.464 1738.96 186.001 Q1737.02 185.538 1734.93 185.538 Q1731.76 185.538 1730.17 186.51 Q1728.59 187.483 1728.59 189.427 Q1728.59 190.908 1729.73 191.765 Q1730.86 192.598 1734.29 193.362 L1735.74 193.686 Q1740.28 194.658 1742.18 196.441 Q1744.1 198.2 1744.1 201.371 Q1744.1 204.982 1741.23 207.089 Q1738.38 209.195 1733.38 209.195 Q1731.3 209.195 1729.03 208.779 Q1726.79 208.385 1724.29 207.575 L1724.29 203.177 Q1726.65 204.404 1728.94 205.029 Q1731.23 205.631 1733.48 205.631 Q1736.49 205.631 1738.11 204.612 Q1739.73 203.57 1739.73 201.695 Q1739.73 199.959 1738.55 199.033 Q1737.39 198.107 1733.43 197.251 L1731.95 196.904 Q1727.99 196.07 1726.23 194.358 Q1724.47 192.621 1724.47 189.612 Q1724.47 185.955 1727.06 183.964 Q1729.66 181.973 1734.43 181.973 Q1736.79 181.973 1738.87 182.321 Q1740.95 182.668 1742.71 183.362 Z\" fill=\"#000000\" fill-rule=\"evenodd\" fill-opacity=\"1\" /><path clip-path=\"url(#clip710)\" d=\"M 0 0 M1764.19 186.996 L1793.87 186.996 L1793.87 190.885 L1764.19 190.885 L1764.19 186.996 M1764.19 196.441 L1793.87 196.441 L1793.87 200.376 L1764.19 200.376 L1764.19 196.441 Z\" fill=\"#000000\" fill-rule=\"evenodd\" fill-opacity=\"1\" /><path clip-path=\"url(#clip710)\" d=\"M 0 0 M1814.82 204.589 L1822.46 204.589 L1822.46 178.223 L1814.15 179.89 L1814.15 175.631 L1822.41 173.964 L1827.09 173.964 L1827.09 204.589 L1834.73 204.589 L1834.73 208.524 L1814.82 208.524 L1814.82 204.589 Z\" fill=\"#000000\" fill-rule=\"evenodd\" fill-opacity=\"1\" /><path clip-path=\"url(#clip710)\" d=\"M 0 0 M1839.8 202.644 L1844.68 202.644 L1844.68 208.524 L1839.8 208.524 L1839.8 202.644 Z\" fill=\"#000000\" fill-rule=\"evenodd\" fill-opacity=\"1\" /><path clip-path=\"url(#clip710)\" d=\"M 0 0 M1849.89 207.807 L1849.89 203.547 Q1851.65 204.381 1853.45 204.82 Q1855.26 205.26 1856.99 205.26 Q1861.62 205.26 1864.05 202.158 Q1866.51 199.033 1866.86 192.691 Q1865.51 194.682 1863.45 195.746 Q1861.39 196.811 1858.89 196.811 Q1853.71 196.811 1850.67 193.686 Q1847.67 190.538 1847.67 185.098 Q1847.67 179.774 1850.81 176.557 Q1853.96 173.339 1859.19 173.339 Q1865.19 173.339 1868.34 177.946 Q1871.51 182.529 1871.51 191.279 Q1871.51 199.45 1867.62 204.334 Q1863.75 209.195 1857.2 209.195 Q1855.44 209.195 1853.64 208.848 Q1851.83 208.501 1849.89 207.807 M1859.19 193.154 Q1862.34 193.154 1864.17 191.001 Q1866.02 188.848 1866.02 185.098 Q1866.02 181.371 1864.17 179.219 Q1862.34 177.043 1859.19 177.043 Q1856.04 177.043 1854.19 179.219 Q1852.36 181.371 1852.36 185.098 Q1852.36 188.848 1854.19 191.001 Q1856.04 193.154 1859.19 193.154 Z\" fill=\"#000000\" fill-rule=\"evenodd\" fill-opacity=\"1\" /><path clip-path=\"url(#clip710)\" d=\"M 0 0 M1887.16 189.381 Q1884.01 189.381 1882.16 191.533 Q1880.33 193.686 1880.33 197.436 Q1880.33 201.163 1882.16 203.339 Q1884.01 205.492 1887.16 205.492 Q1890.3 205.492 1892.13 203.339 Q1893.98 201.163 1893.98 197.436 Q1893.98 193.686 1892.13 191.533 Q1890.3 189.381 1887.16 189.381 M1896.44 174.728 L1896.44 178.987 Q1894.68 178.154 1892.87 177.714 Q1891.09 177.274 1889.33 177.274 Q1884.7 177.274 1882.25 180.399 Q1879.82 183.524 1879.47 189.844 Q1880.84 187.83 1882.9 186.765 Q1884.96 185.677 1887.43 185.677 Q1892.64 185.677 1895.65 188.848 Q1898.68 191.996 1898.68 197.436 Q1898.68 202.76 1895.54 205.978 Q1892.39 209.195 1887.16 209.195 Q1881.16 209.195 1877.99 204.612 Q1874.82 200.006 1874.82 191.279 Q1874.82 183.084 1878.71 178.223 Q1882.6 173.339 1889.15 173.339 Q1890.91 173.339 1892.69 173.686 Q1894.49 174.034 1896.44 174.728 Z\" fill=\"#000000\" fill-rule=\"evenodd\" fill-opacity=\"1\" /><path clip-path=\"url(#clip710)\" d=\"M 0 0 M1904.24 202.644 L1909.12 202.644 L1909.12 206.626 L1905.33 214.033 L1902.34 214.033 L1904.24 206.626 L1904.24 202.644 Z\" fill=\"#000000\" fill-rule=\"evenodd\" fill-opacity=\"1\" /><path clip-path=\"url(#clip710)\" d=\"M 0 0 M1928.66 172.506 L1932.92 172.506 L1932.92 208.524 L1928.66 208.524 L1928.66 172.506 Z\" fill=\"#000000\" fill-rule=\"evenodd\" fill-opacity=\"1\" /><path clip-path=\"url(#clip710)\" d=\"M 0 0 M1949.17 195.492 Q1944.01 195.492 1942.02 196.672 Q1940.03 197.853 1940.03 200.7 Q1940.03 202.969 1941.51 204.311 Q1943.01 205.631 1945.58 205.631 Q1949.12 205.631 1951.25 203.131 Q1953.41 200.607 1953.41 196.441 L1953.41 195.492 L1949.17 195.492 M1957.66 193.733 L1957.66 208.524 L1953.41 208.524 L1953.41 204.589 Q1951.95 206.95 1949.77 208.084 Q1947.6 209.195 1944.45 209.195 Q1940.47 209.195 1938.1 206.973 Q1935.77 204.728 1935.77 200.978 Q1935.77 196.603 1938.68 194.381 Q1941.62 192.158 1947.43 192.158 L1953.41 192.158 L1953.41 191.742 Q1953.41 188.802 1951.46 187.205 Q1949.54 185.584 1946.04 185.584 Q1943.82 185.584 1941.72 186.117 Q1939.61 186.649 1937.66 187.714 L1937.66 183.779 Q1940 182.876 1942.2 182.436 Q1944.4 181.973 1946.48 181.973 Q1952.11 181.973 1954.89 184.89 Q1957.66 187.807 1957.66 193.733 Z\" fill=\"#000000\" fill-rule=\"evenodd\" fill-opacity=\"1\" /><path clip-path=\"url(#clip710)\" d=\"M 0 0 M1982.32 187.575 Q1983.91 184.705 1986.14 183.339 Q1988.36 181.973 1991.37 181.973 Q1995.42 181.973 1997.62 184.821 Q1999.82 187.645 1999.82 192.876 L1999.82 208.524 L1995.53 208.524 L1995.53 193.015 Q1995.53 189.288 1994.22 187.483 Q1992.9 185.677 1990.19 185.677 Q1986.88 185.677 1984.96 187.876 Q1983.04 190.075 1983.04 193.871 L1983.04 208.524 L1978.75 208.524 L1978.75 193.015 Q1978.75 189.265 1977.43 187.483 Q1976.11 185.677 1973.36 185.677 Q1970.1 185.677 1968.17 187.899 Q1966.25 190.098 1966.25 193.871 L1966.25 208.524 L1961.97 208.524 L1961.97 182.598 L1966.25 182.598 L1966.25 186.626 Q1967.71 184.242 1969.75 183.108 Q1971.79 181.973 1974.59 181.973 Q1977.41 181.973 1979.38 183.408 Q1981.37 184.844 1982.32 187.575 Z\" fill=\"#000000\" fill-rule=\"evenodd\" fill-opacity=\"1\" /><path clip-path=\"url(#clip710)\" d=\"M 0 0 M2022.9 195.584 Q2022.9 190.885 2020.95 188.223 Q2019.03 185.538 2015.65 185.538 Q2012.27 185.538 2010.33 188.223 Q2008.41 190.885 2008.41 195.584 Q2008.41 200.283 2010.33 202.969 Q2012.27 205.631 2015.65 205.631 Q2019.03 205.631 2020.95 202.969 Q2022.9 200.283 2022.9 195.584 M2008.41 186.533 Q2009.75 184.219 2011.78 183.108 Q2013.85 181.973 2016.69 181.973 Q2021.41 181.973 2024.35 185.723 Q2027.32 189.473 2027.32 195.584 Q2027.32 201.695 2024.35 205.445 Q2021.41 209.195 2016.69 209.195 Q2013.85 209.195 2011.78 208.084 Q2009.75 206.95 2008.41 204.635 L2008.41 208.524 L2004.12 208.524 L2004.12 172.506 L2008.41 172.506 L2008.41 186.533 Z\" fill=\"#000000\" fill-rule=\"evenodd\" fill-opacity=\"1\" /><path clip-path=\"url(#clip710)\" d=\"M 0 0 M2048.84 186.533 L2048.84 172.506 L2053.1 172.506 L2053.1 208.524 L2048.84 208.524 L2048.84 204.635 Q2047.5 206.95 2045.44 208.084 Q2043.41 209.195 2040.53 209.195 Q2035.84 209.195 2032.87 205.445 Q2029.93 201.695 2029.93 195.584 Q2029.93 189.473 2032.87 185.723 Q2035.84 181.973 2040.53 181.973 Q2043.41 181.973 2045.44 183.108 Q2047.5 184.219 2048.84 186.533 M2034.33 195.584 Q2034.33 200.283 2036.25 202.969 Q2038.2 205.631 2041.58 205.631 Q2044.96 205.631 2046.9 202.969 Q2048.84 200.283 2048.84 195.584 Q2048.84 190.885 2046.9 188.223 Q2044.96 185.538 2041.58 185.538 Q2038.2 185.538 2036.25 188.223 Q2034.33 190.885 2034.33 195.584 Z\" fill=\"#000000\" fill-rule=\"evenodd\" fill-opacity=\"1\" /><path clip-path=\"url(#clip710)\" d=\"M 0 0 M2069.35 195.492 Q2064.19 195.492 2062.2 196.672 Q2060.21 197.853 2060.21 200.7 Q2060.21 202.969 2061.69 204.311 Q2063.2 205.631 2065.77 205.631 Q2069.31 205.631 2071.44 203.131 Q2073.59 200.607 2073.59 196.441 L2073.59 195.492 L2069.35 195.492 M2077.85 193.733 L2077.85 208.524 L2073.59 208.524 L2073.59 204.589 Q2072.13 206.95 2069.96 208.084 Q2067.78 209.195 2064.63 209.195 Q2060.65 209.195 2058.29 206.973 Q2055.95 204.728 2055.95 200.978 Q2055.95 196.603 2058.87 194.381 Q2061.81 192.158 2067.62 192.158 L2073.59 192.158 L2073.59 191.742 Q2073.59 188.802 2071.65 187.205 Q2069.72 185.584 2066.23 185.584 Q2064.01 185.584 2061.9 186.117 Q2059.79 186.649 2057.85 187.714 L2057.85 183.779 Q2060.19 182.876 2062.39 182.436 Q2064.59 181.973 2066.67 181.973 Q2072.29 181.973 2075.07 184.89 Q2077.85 187.807 2077.85 193.733 Z\" fill=\"#000000\" fill-rule=\"evenodd\" fill-opacity=\"1\" /><path clip-path=\"url(#clip710)\" d=\"M 0 0 M2097.94 186.996 L2127.62 186.996 L2127.62 190.885 L2097.94 190.885 L2097.94 186.996 M2097.94 196.441 L2127.62 196.441 L2127.62 200.376 L2097.94 200.376 L2097.94 196.441 Z\" fill=\"#000000\" fill-rule=\"evenodd\" fill-opacity=\"1\" /><path clip-path=\"url(#clip710)\" d=\"M 0 0 M2148.57 204.589 L2156.21 204.589 L2156.21 178.223 L2147.9 179.89 L2147.9 175.631 L2156.16 173.964 L2160.83 173.964 L2160.83 204.589 L2168.47 204.589 L2168.47 208.524 L2148.57 208.524 L2148.57 204.589 Z\" fill=\"#000000\" fill-rule=\"evenodd\" fill-opacity=\"1\" /><path clip-path=\"url(#clip710)\" d=\"M 0 0 M2173.54 202.644 L2178.43 202.644 L2178.43 208.524 L2173.54 208.524 L2173.54 202.644 Z\" fill=\"#000000\" fill-rule=\"evenodd\" fill-opacity=\"1\" /><path clip-path=\"url(#clip710)\" d=\"M 0 0 M2196.34 178.038 L2184.54 196.487 L2196.34 196.487 L2196.34 178.038 M2195.12 173.964 L2201 173.964 L2201 196.487 L2205.93 196.487 L2205.93 200.376 L2201 200.376 L2201 208.524 L2196.34 208.524 L2196.34 200.376 L2180.74 200.376 L2180.74 195.862 L2195.12 173.964 Z\" fill=\"#000000\" fill-rule=\"evenodd\" fill-opacity=\"1\" /><path clip-path=\"url(#clip710)\" d=\"M 0 0 M2211.14 207.807 L2211.14 203.547 Q2212.89 204.381 2214.7 204.82 Q2216.51 205.26 2218.24 205.26 Q2222.87 205.26 2225.3 202.158 Q2227.76 199.033 2228.1 192.691 Q2226.76 194.682 2224.7 195.746 Q2222.64 196.811 2220.14 196.811 Q2214.96 196.811 2211.92 193.686 Q2208.91 190.538 2208.91 185.098 Q2208.91 179.774 2212.06 176.557 Q2215.21 173.339 2220.44 173.339 Q2226.44 173.339 2229.58 177.946 Q2232.76 182.529 2232.76 191.279 Q2232.76 199.45 2228.87 204.334 Q2225 209.195 2218.45 209.195 Q2216.69 209.195 2214.89 208.848 Q2213.08 208.501 2211.14 207.807 M2220.44 193.154 Q2223.59 193.154 2225.42 191.001 Q2227.27 188.848 2227.27 185.098 Q2227.27 181.371 2225.42 179.219 Q2223.59 177.043 2220.44 177.043 Q2217.29 177.043 2215.44 179.219 Q2213.61 181.371 2213.61 185.098 Q2213.61 188.848 2215.44 191.001 Q2217.29 193.154 2220.44 193.154 Z\" fill=\"#000000\" fill-rule=\"evenodd\" fill-opacity=\"1\" /></svg>\n"
      ]
     },
     "execution_count": 411,
     "metadata": {},
     "output_type": "execute_result"
    }
   ],
   "source": [
    "# point sensitvity wrt the separating hyperplane\n",
    "# gradients are normalized\n",
    "\n",
    "Plots.plot!(\n",
    "    Plots.scatter(\n",
    "        X[:,1], X[:,2], \n",
    "        color = [yi > 0 ? :red : :blue for yi in y], label = \"\",\n",
    "        markersize= ∇ * 25\n",
    "    ),\n",
    "    ylims= (-2, 4.5),\n",
    "    [-bv / wv[2],\n",
    "    (-bv - 2wv[1])/wv[2]], label = \"penalty = $(penalty), loss = $(round(loss, digits=2)), lambda = $(round(λ, digits=2))\"\n",
    ")"
   ]
  },
  {
   "cell_type": "code",
   "execution_count": 413,
   "metadata": {},
   "outputs": [],
   "source": [
    "#Plots.heatmap(reshape(∇,1,length(∇)))"
   ]
  },
  {
   "cell_type": "code",
   "execution_count": null,
   "metadata": {},
   "outputs": [],
   "source": []
  }
 ],
 "metadata": {
  "kernelspec": {
   "display_name": "Julia 1.0.5",
   "language": "julia",
   "name": "julia-1.0"
  },
  "language_info": {
   "file_extension": ".jl",
   "mimetype": "application/julia",
   "name": "julia",
   "version": "1.0.5"
  }
 },
 "nbformat": 4,
 "nbformat_minor": 4
}
