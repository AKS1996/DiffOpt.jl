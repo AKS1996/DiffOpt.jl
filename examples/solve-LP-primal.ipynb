{
 "cells": [
  {
   "cell_type": "markdown",
   "metadata": {},
   "source": [
    "# solving LP primal"
   ]
  },
  {
   "cell_type": "code",
   "execution_count": null,
   "metadata": {},
   "outputs": [],
   "source": [
    "using Random\n",
    "using Ipopt\n",
    "using MathOptInterface\n",
    "\n",
    "const MOI = MathOptInterface;"
   ]
  },
  {
   "cell_type": "code",
   "execution_count": null,
   "metadata": {},
   "outputs": [],
   "source": [
    "N = 10\n",
    "D = 5;"
   ]
  },
  {
   "cell_type": "markdown",
   "metadata": {},
   "source": [
    "## create a non-trivial LP problem"
   ]
  },
  {
   "cell_type": "code",
   "execution_count": null,
   "metadata": {},
   "outputs": [],
   "source": [
    "s = rand(N)\n",
    "s = 2*s.-1\n",
    "λ = max.(-s, 0)\n",
    "s = max.(s, 0)\n",
    "x̂ = rand(D)\n",
    "A = rand(N, D)\n",
    "b = A*x̂ .+ s\n",
    "c = -A'*λ;"
   ]
  },
  {
   "cell_type": "code",
   "execution_count": null,
   "metadata": {},
   "outputs": [],
   "source": [
    "model = Ipopt.Optimizer()\n",
    "x = MOI.add_variables(model, D)\n",
    "\n",
    "# define objective\n",
    "objective_function = MOI.ScalarAffineFunction(MOI.ScalarAffineTerm.(c, x), 0.0)\n",
    "MOI.set(model, MOI.ObjectiveFunction{MOI.ScalarAffineFunction{Float64}}(), objective_function)\n",
    "MOI.set(model, MOI.ObjectiveSense(), MOI.MIN_SENSE)"
   ]
  },
  {
   "cell_type": "code",
   "execution_count": null,
   "metadata": {},
   "outputs": [],
   "source": [
    "# set constraints\n",
    "for i in 1:N\n",
    "    MOI.add_constraint(model,MOI.ScalarAffineFunction(MOI.ScalarAffineTerm.(A[i], x), -b[i]),MOI.LessThan(0.))\n",
    "end\n",
    "\n",
    "for i in 1:D\n",
    "    MOI.add_constraint(model,MOI.SingleVariable(x[i]),MOI.LessThan(1.))\n",
    "    MOI.add_constraint(model,MOI.SingleVariable(x[i]),MOI.GreaterThan(0.))\n",
    "end"
   ]
  },
  {
   "cell_type": "code",
   "execution_count": null,
   "metadata": {
    "scrolled": false
   },
   "outputs": [],
   "source": [
    "MOI.optimize!(model)"
   ]
  },
  {
   "cell_type": "code",
   "execution_count": null,
   "metadata": {},
   "outputs": [],
   "source": [
    "@assert MOI.get(model, MOI.TerminationStatus()) in [MOI.LOCALLY_SOLVED, MOI.OPTIMAL]"
   ]
  },
  {
   "cell_type": "code",
   "execution_count": null,
   "metadata": {},
   "outputs": [],
   "source": [
    "x̄ = MOI.get(model, MOI.VariablePrimal(), x)"
   ]
  }
 ],
 "metadata": {
  "kernelspec": {
   "display_name": "Julia 1.0.5",
   "language": "julia",
   "name": "julia-1.0"
  },
  "language_info": {
   "file_extension": ".jl",
   "mimetype": "application/julia",
   "name": "julia",
   "version": "1.0.5"
  }
 },
 "nbformat": 4,
 "nbformat_minor": 2
}
