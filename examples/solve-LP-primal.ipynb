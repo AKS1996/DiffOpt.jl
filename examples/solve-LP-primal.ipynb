{
 "cells": [
  {
   "cell_type": "markdown",
   "metadata": {},
   "source": [
    "# solving LP primal"
   ]
  },
  {
   "cell_type": "code",
   "execution_count": null,
   "metadata": {},
   "outputs": [],
   "source": [
    "using Random\n",
    "using GLPK\n",
    "using MathOptInterface\n",
    "using Dualization\n",
    "\n",
    "const MOI = MathOptInterface;"
   ]
  },
  {
   "cell_type": "code",
   "execution_count": null,
   "metadata": {},
   "outputs": [],
   "source": [
    "D = 10  # variable dimension\n",
    "N = 20; # no of inequality constraints"
   ]
  },
  {
   "cell_type": "markdown",
   "metadata": {},
   "source": [
    "## create a non-trivial LP problem"
   ]
  },
  {
   "cell_type": "code",
   "execution_count": null,
   "metadata": {},
   "outputs": [],
   "source": [
    "s = rand(N)\n",
    "s = 2*s.-1\n",
    "λ = max.(-s, 0)\n",
    "s = max.(s, 0)\n",
    "x̂ = rand(D)\n",
    "A = rand(N, D)\n",
    "b = A*x̂ .+ s\n",
    "c = -A'*λ;"
   ]
  },
  {
   "cell_type": "code",
   "execution_count": null,
   "metadata": {},
   "outputs": [],
   "source": [
    "# can feed dual problem to optimizer like this:\n",
    "# linear_cache = MOIU.UniversalFallback(Dualization.DualizableModel{Float64}())\n",
    "# linear_cached = MOIU.CachingOptimizer(linear_cache, MOI.instantiate(dual_optimizer(GLPK.Optimizer)))\n",
    "# model = MOIB.full_bridge_optimizer(linear_cached, Float64)\n",
    "\n",
    "model = GLPK.Optimizer()\n",
    "x = MOI.add_variables(model, D)\n",
    "\n",
    "# define objective\n",
    "objective_function = MOI.ScalarAffineFunction(MOI.ScalarAffineTerm.(c, x), 0.0)\n",
    "MOI.set(model, MOI.ObjectiveFunction{MOI.ScalarAffineFunction{Float64}}(), objective_function)\n",
    "MOI.set(model, MOI.ObjectiveSense(), MOI.MIN_SENSE)"
   ]
  },
  {
   "cell_type": "code",
   "execution_count": null,
   "metadata": {},
   "outputs": [],
   "source": [
    "# will be useful later\n",
    "constraint_indices = []\n",
    "\n",
    "# set constraints\n",
    "for i in 1:N\n",
    "    push!(constraint_indices, MOI.add_constraint(model,MOI.ScalarAffineFunction(MOI.ScalarAffineTerm.(A[i,:], x), 0.),MOI.LessThan(b[i])))\n",
    "end\n",
    "\n",
    "for i in 1:D\n",
    "    push!(constraint_indices, MOI.add_constraint(model,MOI.SingleVariable(x[i]),MOI.GreaterThan(0.)))\n",
    "end"
   ]
  },
  {
   "cell_type": "code",
   "execution_count": null,
   "metadata": {
    "scrolled": false
   },
   "outputs": [],
   "source": [
    "MOI.optimize!(model)"
   ]
  },
  {
   "cell_type": "code",
   "execution_count": null,
   "metadata": {},
   "outputs": [],
   "source": [
    "@assert MOI.get(model, MOI.TerminationStatus()) in [MOI.LOCALLY_SOLVED, MOI.OPTIMAL]"
   ]
  },
  {
   "cell_type": "code",
   "execution_count": null,
   "metadata": {},
   "outputs": [],
   "source": [
    "x̄ = MOI.get(model, MOI.VariablePrimal(), x)"
   ]
  },
  {
   "cell_type": "code",
   "execution_count": null,
   "metadata": {},
   "outputs": [],
   "source": [
    "x̄ - x̂   # sanity check"
   ]
  },
  {
   "cell_type": "markdown",
   "metadata": {},
   "source": [
    "## find and solve dual problem \n",
    "\n",
    "| primal | dual |\n",
    "|--------|------|\n",
    "min c'x  | max b'y\n",
    "st Ax <= b | st A'y >= c\n",
    "    x >= 0 |     y <= 0\n",
    "  \n",
    "- Each primal variable becomes a dual constraint\n",
    "- Each primal constraint becomes a dual variable"
   ]
  },
  {
   "cell_type": "code",
   "execution_count": null,
   "metadata": {},
   "outputs": [],
   "source": [
    "joint_object    = dualize(model)\n",
    "dual_model      = joint_object.dual_model # this is MOI.ModelLike, not an MOI.AbstractOptimizer; can't call optimizer on it\n",
    "primal_dual_map = joint_object.primal_dual_map;"
   ]
  },
  {
   "cell_type": "code",
   "execution_count": null,
   "metadata": {
    "scrolled": false
   },
   "outputs": [],
   "source": [
    "# get dual objective\n",
    "dual_objective = dual_model.objective;                            # b'y"
   ]
  },
  {
   "cell_type": "code",
   "execution_count": null,
   "metadata": {},
   "outputs": [],
   "source": [
    "dual_variable_indices = [primal_dual_map.primal_con_dual_var[x][1] for x in constraint_indices];"
   ]
  },
  {
   "cell_type": "code",
   "execution_count": null,
   "metadata": {},
   "outputs": [],
   "source": [
    "dual_constraint_indices = [primal_dual_map.primal_var_dual_con[i] for i in x];"
   ]
  },
  {
   "cell_type": "code",
   "execution_count": null,
   "metadata": {},
   "outputs": [],
   "source": []
  }
 ],
 "metadata": {
  "kernelspec": {
   "display_name": "Julia 1.0.5",
   "language": "julia",
   "name": "julia-1.0"
  },
  "language_info": {
   "file_extension": ".jl",
   "mimetype": "application/julia",
   "name": "julia",
   "version": "1.0.5"
  }
 },
 "nbformat": 4,
 "nbformat_minor": 2
}
